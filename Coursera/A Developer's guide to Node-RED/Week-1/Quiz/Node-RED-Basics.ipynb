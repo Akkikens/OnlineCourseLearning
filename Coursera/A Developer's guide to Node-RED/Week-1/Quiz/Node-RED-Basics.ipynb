{
 "cells": [
  {
   "cell_type": "markdown",
   "metadata": {},
   "source": [
    "#### 1. If I want to make an additional JavaScript package available to code running in a function node when running Node-RED in the IBM Cloud from the Internet of Things boilerplate, what actions are needed?\n",
    "\n",
    "#### (Select all that apply)"
   ]
  },
  {
   "cell_type": "markdown",
   "metadata": {},
   "source": [
    "##### Ans: \n",
    "- Add key:require('package name') to the functionGlobalContext property of the settings file, then use global.get('key') in the function node code to access the package\n",
    "- add the package to dependencies section in package.json"
   ]
  },
  {
   "cell_type": "markdown",
   "metadata": {},
   "source": [
    "#### 2. How can I install a node listed on the flows page of the Node-RED website in my Node-RED pallet. The node doesn't need any prerequisite content to be installed.\n",
    "\n",
    "#### ####Assume Node-RED is running from a standard install on a Raspberry Pi or laptop rather than the IBM Cloud.\n",
    "\n",
    "#### (Select all that apply)"
   ]
  },
  {
   "cell_type": "markdown",
   "metadata": {},
   "source": [
    "##### Ans: \n",
    "- From the Node-RED editor menu select Manage Pallet to access the pallet manager. Find the node on the install tab then press the install button.\n",
    "- run npm install in the .node-red directory in the user's home directory then restart Node-RED and refresh the browser\n",
    "- Add the package to the dependencies section of package.json then run npm install, restart Node-RED then refresh the browser"
   ]
  },
  {
   "cell_type": "markdown",
   "metadata": {},
   "source": [
    "#### 3. How can I find out what version of Node-RED I am running?"
   ]
  },
  {
   "cell_type": "markdown",
   "metadata": {},
   "source": [
    "##### Ans: \n",
    "- Look in package.json at the version property\n",
    "- Look at the bottom of the menu in the Editor UI"
   ]
  },
  {
   "cell_type": "markdown",
   "metadata": {},
   "source": [
    "#### 4. In a template node which of these will output content:\n",
    "> test is not defined\n",
    "\n",
    "####  if msg.test is not contained in the incoming message object?"
   ]
  },
  {
   "cell_type": "markdown",
   "metadata": {},
   "source": [
    "##### Ans: \n",
    "{{^test}}\n",
    "test is not defined\n",
    "{{/test}}"
   ]
  },
  {
   "cell_type": "markdown",
   "metadata": {},
   "source": [
    "#### 5. I have a node that publishes sensor data from the Bluetooth device. It puts the sensor name in msg.topic and the value read from the sensor in msg.payload. My flow is not creating the correct output, so I need to verify what the sensor node puts in the msg.topic property. How can I get the msg.topic data shown in the debug tab of the Node-RED editor?\n",
    "\n",
    "#### (Select all that apply)"
   ]
  },
  {
   "cell_type": "markdown",
   "metadata": {},
   "source": [
    "##### Ans: Use a debug node, but manually change the configuration to show complete msg object"
   ]
  }
 ],
 "metadata": {
  "kernelspec": {
   "display_name": "Python 3",
   "language": "python",
   "name": "python3"
  },
  "language_info": {
   "codemirror_mode": {
    "name": "ipython",
    "version": 3
   },
   "file_extension": ".py",
   "mimetype": "text/x-python",
   "name": "python",
   "nbconvert_exporter": "python",
   "pygments_lexer": "ipython3",
   "version": "3.6.4"
  }
 },
 "nbformat": 4,
 "nbformat_minor": 2
}
