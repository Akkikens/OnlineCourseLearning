{
 "cells": [
  {
   "cell_type": "markdown",
   "metadata": {},
   "source": [
    "#### 1. Which of these activities is not suitable for a Node-RED application deployed in the cloud"
   ]
  },
  {
   "cell_type": "markdown",
   "metadata": {},
   "source": [
    "##### Ans: \n",
    "- Configuring a cloud storage service, but modifying the Node-RED run time to get the service details from the settings config file rather than storing them in the node configuration\n",
    "- Calling an API using the http request node with all the service details set in the node configuration"
   ]
  },
  {
   "cell_type": "markdown",
   "metadata": {},
   "source": [
    "#### 2. During cloud automated operations, which of these ways of persisting information could result in lost data"
   ]
  },
  {
   "cell_type": "markdown",
   "metadata": {},
   "source": [
    "##### Ans: \n",
    "- using file nodes in Node-RED\n",
    "- using Node-RED global context"
   ]
  },
  {
   "cell_type": "markdown",
   "metadata": {},
   "source": [
    "#### 3. You need to call a cloud service in your application. How should you store the service calling details (web address, credentials, etc) to ensure you have an application that can be hosted on a cloud environment?"
   ]
  },
  {
   "cell_type": "markdown",
   "metadata": {},
   "source": [
    "##### Ans: \n",
    "- Expect the configuration to be made available as configuration by the cloud environment, then use the data in the environment variables to prepare the calls to the service.\n",
    "- Use a service specific node that is cloud aware and select the cloud configuration option to automatically pick up the configuration from the cloud runtime."
   ]
  },
  {
   "cell_type": "markdown",
   "metadata": {},
   "source": [
    "#### 4. Which of these best describes a cloud native application"
   ]
  },
  {
   "cell_type": "markdown",
   "metadata": {},
   "source": [
    "##### Ans: An application that holds no local state but uses a cloud storage service to hold any state"
   ]
  },
  {
   "cell_type": "markdown",
   "metadata": {},
   "source": [
    "#### 5. When connecting to a social media site using Node-RED in an application destined for deployment on a cloud infrastructure, which of the following could be a concern?"
   ]
  },
  {
   "cell_type": "markdown",
   "metadata": {},
   "source": [
    "##### Ans: A single message could be processed multiple times"
   ]
  }
 ],
 "metadata": {
  "kernelspec": {
   "display_name": "Python 3",
   "language": "python",
   "name": "python3"
  },
  "language_info": {
   "codemirror_mode": {
    "name": "ipython",
    "version": 3
   },
   "file_extension": ".py",
   "mimetype": "text/x-python",
   "name": "python",
   "nbconvert_exporter": "python",
   "pygments_lexer": "ipython3",
   "version": "3.6.4"
  }
 },
 "nbformat": 4,
 "nbformat_minor": 2
}
