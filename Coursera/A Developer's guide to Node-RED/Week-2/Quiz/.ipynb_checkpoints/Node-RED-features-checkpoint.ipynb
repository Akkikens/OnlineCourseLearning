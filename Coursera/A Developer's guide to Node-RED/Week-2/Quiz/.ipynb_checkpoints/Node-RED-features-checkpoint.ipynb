{
 "cells": [
  {
   "cell_type": "markdown",
   "metadata": {},
   "source": [
    "#### 1. If an exception is thrown in a subflow, where will the exception be caught?\n",
    "\n",
    "(Assume the catch nodes mentioned in solution are configured to catch all exceptions on the current workspace)"
   ]
  },
  {
   "cell_type": "markdown",
   "metadata": {},
   "source": [
    "##### Ans: In a catch node within the subflow, even when there is a catch node on the flow containing the instance of the subflow generating the error."
   ]
  },
  {
   "cell_type": "markdown",
   "metadata": {},
   "source": [
    "#### 2. What will appear in the info tab in the Node-RED editor?"
   ]
  },
  {
   "cell_type": "markdown",
   "metadata": {},
   "source": [
    "##### Ans: \n",
    "- Node help if a node is selected in the pallet\n",
    "- node help, including values of current configuration properties, if a node is selected from the sheet.\n",
    "- The description entered in the flow editor for the current workspace tab if no node is selected."
   ]
  },
  {
   "cell_type": "markdown",
   "metadata": {},
   "source": [
    "#### 3. What information can be shown in the Node-RED side bar?"
   ]
  },
  {
   "cell_type": "markdown",
   "metadata": {},
   "source": [
    "##### Ans: \n",
    "- The info panel\n",
    "- The debug panel\n",
    "- The dashboard layout panel\n",
    "- configuration node panel"
   ]
  },
  {
   "cell_type": "markdown",
   "metadata": {},
   "source": [
    "#### 4. Which of these node properties will be searched by the search menu option and show up in the results of a match is made?"
   ]
  },
  {
   "cell_type": "markdown",
   "metadata": {},
   "source": [
    "##### Ans: \n",
    "- Inject node payload, with a configured JSON payload\n",
    "- URL in an http request node\n",
    "- Any Node name\n",
    "- Javascript written in a function node configuration"
   ]
  },
  {
   "cell_type": "markdown",
   "metadata": {},
   "source": [
    "#### 5. When a subflow is deleted by double clicking it in the pallet and then selecting to delete it, what happens to the instances of the subflow on the worksheet tabs?"
   ]
  },
  {
   "cell_type": "markdown",
   "metadata": {},
   "source": [
    "##### Ans: The instances of the subflow are also deleted, also any connections that were entering or leaving the subflow node are also deleted leaving unconnected nodes where the subflow nodes were located."
   ]
  }
 ],
 "metadata": {
  "kernelspec": {
   "display_name": "Python 3",
   "language": "python",
   "name": "python3"
  },
  "language_info": {
   "codemirror_mode": {
    "name": "ipython",
    "version": 3
   },
   "file_extension": ".py",
   "mimetype": "text/x-python",
   "name": "python",
   "nbconvert_exporter": "python",
   "pygments_lexer": "ipython3",
   "version": "3.6.4"
  }
 },
 "nbformat": 4,
 "nbformat_minor": 2
}
