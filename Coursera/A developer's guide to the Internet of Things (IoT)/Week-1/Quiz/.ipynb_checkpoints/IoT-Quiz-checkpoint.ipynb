{
 "cells": [
  {
   "cell_type": "markdown",
   "metadata": {},
   "source": [
    "#### 1. IoT is defined as\n",
    "\n",
    "#### \"A network of interconnected objects, embedded with electronics, software, or sensors, that collect and transmit data to the internet and to each other\".\n",
    "\n",
    "#### What is IoT?"
   ]
  },
  {
   "cell_type": "markdown",
   "metadata": {},
   "source": [
    "##### Ans: Internet of things"
   ]
  },
  {
   "cell_type": "markdown",
   "metadata": {},
   "source": [
    "#### 2. The real value of IoT lies in: "
   ]
  },
  {
   "cell_type": "markdown",
   "metadata": {},
   "source": [
    "##### (Wrong) Ans: Devices that can connect to the cloud either directly or via a gateway | Collection of vast amount of data that can be stored remotely | Innovation of reusable energy"
   ]
  },
  {
   "cell_type": "markdown",
   "metadata": {},
   "source": [
    "#### 3 What interconnected objects can be part of IoT?\n",
    "\n",
    "#### (Pick all that apply)"
   ]
  },
  {
   "cell_type": "markdown",
   "metadata": {},
   "source": [
    "##### Ans: \n",
    "<ul>\n",
    "    <li>Mechanical or digital machines that have sensors and use a gateway as a way to transmit data to the internet</li>\n",
    "    <li>Anything that can, either directly or indirectly, collect or transmit data to the internet</li>\n",
    "    <li>Living things (example: people or animals) fitted with sensors, and use more powerful machines to connect to the internet</li>\n",
    "</ul>"
   ]
  },
  {
   "cell_type": "markdown",
   "metadata": {},
   "source": [
    "#### 4. Why has there been a recent increased interest in IoT?"
   ]
  },
  {
   "cell_type": "markdown",
   "metadata": {},
   "source": [
    "##### Ans: Falling sensor prices, efficiencies in power usage and ways of powering devices. The abundance of standards based connectivity for connecting devices to the cloud. Cloud service providers now offer solutions that support IoT development and deployment. Analytic technologies allow IoT data to add value to applications"
   ]
  },
  {
   "cell_type": "markdown",
   "metadata": {},
   "source": [
    "#### 5. How is IoT creating value and transforming businesses and industries?"
   ]
  },
  {
   "cell_type": "markdown",
   "metadata": {},
   "source": [
    "##### Ans: By collecting and analyzing data, companies gain insight which is the basis for discovering transformative business and industry opportunities. "
   ]
  }
 ],
 "metadata": {
  "kernelspec": {
   "display_name": "Python 3",
   "language": "python",
   "name": "python3"
  },
  "language_info": {
   "codemirror_mode": {
    "name": "ipython",
    "version": 3
   },
   "file_extension": ".py",
   "mimetype": "text/x-python",
   "name": "python",
   "nbconvert_exporter": "python",
   "pygments_lexer": "ipython3",
   "version": "3.6.4"
  }
 },
 "nbformat": 4,
 "nbformat_minor": 2
}
