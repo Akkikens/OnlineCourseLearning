{
 "cells": [
  {
   "cell_type": "markdown",
   "metadata": {},
   "source": [
    "#### 1. Given the following code in a function node and the node configured with 3 outputs, what would you expect to be output from the node?"
   ]
  },
  {
   "cell_type": "raw",
   "metadata": {},
   "source": [
    "return [ \n",
    "  { payload: 1 },\n",
    "  { payload: 2 },\n",
    "  { payload: 3 },\n",
    "  { payload: 4 },\n",
    "];"
   ]
  },
  {
   "cell_type": "markdown",
   "metadata": {},
   "source": [
    "##### Ans: 3 messages output of the node, one message sent out of each of the 3 outputs"
   ]
  },
  {
   "cell_type": "markdown",
   "metadata": {},
   "source": [
    "#### 2. How many messages will be sent from output 2 if a function node is configured with 3 outputs and contains the following code?"
   ]
  },
  {
   "cell_type": "raw",
   "metadata": {},
   "source": [
    "return [[\n",
    "    { payload: 1 },\n",
    "    { payload: [ 2, 3 ] },\n",
    "    { payload: 4 }\n",
    "]];"
   ]
  },
  {
   "cell_type": "markdown",
   "metadata": {},
   "source": [
    "##### Ans: 0"
   ]
  },
  {
   "cell_type": "markdown",
   "metadata": {},
   "source": [
    "#### 3. When making a new package available to the function node, with NodeRED running on IBM Bluemix, which files need to be modified?"
   ]
  },
  {
   "cell_type": "markdown",
   "metadata": {},
   "source": [
    "##### Ans: \n",
    "- bluemix-settings.js\n",
    "- package.json"
   ]
  },
  {
   "cell_type": "markdown",
   "metadata": {},
   "source": [
    "#### 4. If you need to save some context for a node between consecutive invocations which is the most appropriate method to use to store the data, limiting the visibility of the data as much as possible?"
   ]
  },
  {
   "cell_type": "markdown",
   "metadata": {},
   "source": [
    "##### Ans: context.set"
   ]
  },
  {
   "cell_type": "markdown",
   "metadata": {},
   "source": [
    "#### 5. After configuring a new package to be available to the function node, how should a function node access the package?\n",
    "\n",
    "#### Assume the following content in functionGlobalContext object definition in file bluemix-setting.js is used to make the package available:\n",
    "\n",
    "#### { pkg:require('package') }"
   ]
  },
  {
   "cell_type": "markdown",
   "metadata": {},
   "source": [
    "##### Ans: p = global.get('pkg')"
   ]
  }
 ],
 "metadata": {
  "kernelspec": {
   "display_name": "Python 3",
   "language": "python",
   "name": "python3"
  },
  "language_info": {
   "codemirror_mode": {
    "name": "ipython",
    "version": 3
   },
   "file_extension": ".py",
   "mimetype": "text/x-python",
   "name": "python",
   "nbconvert_exporter": "python",
   "pygments_lexer": "ipython3",
   "version": "3.6.4"
  }
 },
 "nbformat": 4,
 "nbformat_minor": 2
}
