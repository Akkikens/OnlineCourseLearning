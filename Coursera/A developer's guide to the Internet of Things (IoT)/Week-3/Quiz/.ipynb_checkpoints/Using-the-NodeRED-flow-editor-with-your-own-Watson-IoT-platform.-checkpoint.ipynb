{
 "cells": [
  {
   "cell_type": "markdown",
   "metadata": {},
   "source": [
    "#### 1. Which steps are required to register your first device with the Watson IoT platform?\n",
    "\n",
    "#### Select all that apply"
   ]
  },
  {
   "cell_type": "markdown",
   "metadata": {},
   "source": [
    "##### Ans: \n",
    "- Register the device.\n",
    "- Create a new device type.\n",
    "- Provide an id/name for the device."
   ]
  },
  {
   "cell_type": "markdown",
   "metadata": {},
   "source": [
    "#### 2. Which authentication method requires the least setup to connect the NodeRED IoT input flow node with your Watson IoT platform when running NodeRED on IBM Bluemix?"
   ]
  },
  {
   "cell_type": "markdown",
   "metadata": {},
   "source": [
    "##### Ans: Bluemix Service"
   ]
  },
  {
   "cell_type": "markdown",
   "metadata": {},
   "source": [
    "#### 3. With a default install on a Raspberry Pi the NodeRED flow editor is the default web page shown (http://(address):1880/), but when running on IBM Bluemix what is the endpoint of the NodeRED flow editor relative to the hostname? (http://(address)/?)"
   ]
  },
  {
   "cell_type": "markdown",
   "metadata": {},
   "source": [
    "##### Ans: /red"
   ]
  },
  {
   "cell_type": "markdown",
   "metadata": {},
   "source": [
    "#### 4. If your NodeRED application running on Bluemix is not bound to your IoT platform service in Bluemix how would you configure the IoT input node to authenticate to the IoT platform?"
   ]
  },
  {
   "cell_type": "markdown",
   "metadata": {},
   "source": [
    "##### Ans: Create an application API key for the NodeRED application to use and configure the node to use the key"
   ]
  },
  {
   "cell_type": "markdown",
   "metadata": {},
   "source": [
    "#### 5. When using the Watson IoT nodes on NodeRED running on a device or gateway (raspberry Pi), what authentication settings should you use to connect to your own IoT Platform service running on Bluemix?\n",
    "\n",
    "#### select all that apply"
   ]
  },
  {
   "cell_type": "markdown",
   "metadata": {},
   "source": [
    "##### Ans: \n",
    "- org id, gateway type, device ID and the token obtained when registering the gateway to the platform\n",
    "- org id, device type, device ID and the token obtained when registering the device to the platform"
   ]
  }
 ],
 "metadata": {
  "kernelspec": {
   "display_name": "Python 3",
   "language": "python",
   "name": "python3"
  },
  "language_info": {
   "codemirror_mode": {
    "name": "ipython",
    "version": 3
   },
   "file_extension": ".py",
   "mimetype": "text/x-python",
   "name": "python",
   "nbconvert_exporter": "python",
   "pygments_lexer": "ipython3",
   "version": "3.6.4"
  }
 },
 "nbformat": 4,
 "nbformat_minor": 2
}
