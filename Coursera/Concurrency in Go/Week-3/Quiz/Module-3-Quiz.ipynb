{
 "cells": [
  {
   "cell_type": "markdown",
   "metadata": {},
   "source": [
    "#### 1. Suppose you want to start a goroutine which executes a function called test1(). What code would create this goroutine?"
   ]
  },
  {
   "cell_type": "markdown",
   "metadata": {},
   "source": [
    "##### Ans: go test1()"
   ]
  },
  {
   "cell_type": "markdown",
   "metadata": {},
   "source": [
    "#### 2. When does a goroutine complete?\n",
    "\n",
    "I. When its code completes.\n",
    "\n",
    "II. When all goroutines complete.\n",
    "\n",
    "III. When the main goroutine completes."
   ]
  },
  {
   "cell_type": "markdown",
   "metadata": {},
   "source": [
    "##### Ans: I and III, NOT II."
   ]
  },
  {
   "cell_type": "markdown",
   "metadata": {},
   "source": [
    "#### 3. Synchronization is useful for what purpose?\n",
    "\n",
    "I. Restrict illegal interleavings.\n",
    "\n",
    "II. Force events in different goroutines to occur in sequence.\n",
    "\n",
    "III. Allow a goroutine to continue to execute after the main goroutine has completed."
   ]
  },
  {
   "cell_type": "markdown",
   "metadata": {},
   "source": [
    "##### Ans: I and II, NOT III."
   ]
  },
  {
   "cell_type": "markdown",
   "metadata": {},
   "source": [
    "#### 4. If a goroutine g1 is using a WaitGroup wg to wait until another goroutine g2 completes a task, what method of the the WaitGroup should be called when g2 has finished the task?"
   ]
  },
  {
   "cell_type": "markdown",
   "metadata": {},
   "source": [
    "##### Ans: wg.Done()"
   ]
  },
  {
   "cell_type": "markdown",
   "metadata": {},
   "source": [
    "#### 5. If a goroutine g1 is using a WaitGroup wg to wait until another goroutine g2 completes a task, what method of the the WaitGroup should be called before g2 starts its task?"
   ]
  },
  {
   "cell_type": "markdown",
   "metadata": {},
   "source": [
    "##### Ans: wg.Add()"
   ]
  },
  {
   "cell_type": "markdown",
   "metadata": {},
   "source": [
    "#### 6. How might you write code to allow a goroutine to receive data from a channel c?"
   ]
  },
  {
   "cell_type": "markdown",
   "metadata": {},
   "source": [
    "##### Ans: x := <- c"
   ]
  },
  {
   "cell_type": "markdown",
   "metadata": {},
   "source": [
    "#### 7. What is the difference between a buffered channel and an unbuffered channel?"
   ]
  },
  {
   "cell_type": "markdown",
   "metadata": {},
   "source": [
    "##### Ans: A buffered channel can hold multiple objects until they are read. An unbuffered channel cannot."
   ]
  }
 ],
 "metadata": {
  "kernelspec": {
   "display_name": "Python 3",
   "language": "python",
   "name": "python3"
  },
  "language_info": {
   "codemirror_mode": {
    "name": "ipython",
    "version": 3
   },
   "file_extension": ".py",
   "mimetype": "text/x-python",
   "name": "python",
   "nbconvert_exporter": "python",
   "pygments_lexer": "ipython3",
   "version": "3.6.4"
  }
 },
 "nbformat": 4,
 "nbformat_minor": 2
}
