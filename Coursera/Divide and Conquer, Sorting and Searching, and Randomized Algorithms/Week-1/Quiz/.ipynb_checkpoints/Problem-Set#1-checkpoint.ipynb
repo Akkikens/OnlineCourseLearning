{
 "cells": [
  {
   "cell_type": "markdown",
   "metadata": {},
   "source": [
    "#### 1. 3-way-Merge Sort : Suppose that instead of dividing in half at each step of Merge Sort, you divide into thirds, sort each third, and finally combine all of them using a three-way merge subroutine. What is the overall asymptotic running time of this algorithm? (Hint: Note that the merge step can still be implemented in O(n)O(n)O(n) time.)"
   ]
  },
  {
   "cell_type": "markdown",
   "metadata": {},
   "source": [
    "##### Ans: nlog(n)"
   ]
  },
  {
   "cell_type": "markdown",
   "metadata": {},
   "source": [
    "#### 2. You are given functions fff and ggg such that f(n)=O(g(n))f(n)=O(g(n))f(n)=O(g(n)). Is f(n)∗log2(f(n)c)=O(g(n)∗log2(g(n)))f(n)*log_2(f(n)^c) = O(g(n)*log_2(g(n)))f(n)∗log2​(f(n)c)=O(g(n)∗log2​(g(n))) ? (Here ccc is some positive constant.) You should assume that fff and ggg are nondecreasing and always bigger than 1."
   ]
  },
  {
   "cell_type": "markdown",
   "metadata": {},
   "source": [
    "##### Ans: True"
   ]
  },
  {
   "cell_type": "markdown",
   "metadata": {},
   "source": [
    "#### 3. Assume again two (positive) nondecreasing functions fff and ggg such that f(n)=O(g(n))f(n)=O(g(n))f(n)=O(g(n)). Is 2f(n)=O(2g(n))2^{f(n)}=O(2^{g(n)})2f(n)=O(2g(n)) ? (Multiple answers may be correct, you should check all of those that apply.)"
   ]
  },
  {
   "cell_type": "markdown",
   "metadata": {},
   "source": [
    "##### Ans: \n",
    "- Sometimes yes, sometimes no (depending on fff and ggg)\n",
    "- Yes if f(n)≤g(n)f(n) \\le g(n)f(n)≤g(n) for all sufficiently large nnn"
   ]
  },
  {
   "cell_type": "markdown",
   "metadata": {},
   "source": [
    "#### 4. k-way-Merge Sort. Suppose you are given kkk sorted arrays, each with nnn elements, and you want to combine them into a single array of knknkn elements. Consider the following approach. Using the merge subroutine taught in lecture, you merge the first 2 arrays, then merge the 3rd3^{rd}3rd given array with this merged version of the first two arrays, then merge the 4th4^{th}4th given array with the merged version of the first three arrays, and so on until you merge in the final (kthk^{th}kth) input array. What is the running time taken by this successive merging algorithm, as a function of kkk and nnn? (Optional: can you think of a faster way to do the k-way merge procedure ?)"
   ]
  },
  {
   "cell_type": "markdown",
   "metadata": {},
   "source": [
    "##### Ans: θ(nk^2)"
   ]
  },
  {
   "cell_type": "markdown",
   "metadata": {},
   "source": [
    "#### 5. Arrange the following functions in increasing order of growth rate (with g(n)g(n)g(n) following f(n)f(n)f(n) in your list if and only if f(n)=O(g(n))f(n)=O(g(n))f(n)=O(g(n))).\n",
    "\n",
    "a)2^log⁡(n)\n",
    "\n",
    "b)2^{2^{\\log(n)}}\n",
    "\n",
    "c)n^{5/2}\n",
    "\n",
    "d)2^{n^2}\n",
    "\n",
    "e)n2log⁡(n)n^2\\log(n)n2log(n)\n",
    "\n",
    "Write your 5-letter answer, i.e., the sequence in lower case letters in the space provided. For example, if you feel that the answer is a->b->c->d->e (from smallest to largest), then type abcde in the space provided without any spaces before / after / in between the string.\n",
    "\n",
    "You can assume that all logarithms are base 2 (though it actually doesn't matter).\n",
    "\n",
    "WARNING: this question has multiple versions, you might see different ones on different attempts!"
   ]
  },
  {
   "cell_type": "code",
   "execution_count": 1,
   "metadata": {},
   "outputs": [],
   "source": [
    "import numpy as np\n",
    "import matplotlib.pyplot as plt\n",
    "%matplotlib inline\n",
    "\n",
    "n = np.arange(0, 10)"
   ]
  },
  {
   "cell_type": "code",
   "execution_count": 2,
   "metadata": {},
   "outputs": [
    {
     "name": "stderr",
     "output_type": "stream",
     "text": [
      "C:\\ProgramData\\Anaconda3\\lib\\site-packages\\ipykernel_launcher.py:1: RuntimeWarning: divide by zero encountered in log\n",
      "  \"\"\"Entry point for launching an IPython kernel.\n",
      "C:\\ProgramData\\Anaconda3\\lib\\site-packages\\ipykernel_launcher.py:2: RuntimeWarning: divide by zero encountered in log\n",
      "  \n",
      "C:\\ProgramData\\Anaconda3\\lib\\site-packages\\ipykernel_launcher.py:5: RuntimeWarning: divide by zero encountered in log\n",
      "  \"\"\"\n",
      "C:\\ProgramData\\Anaconda3\\lib\\site-packages\\ipykernel_launcher.py:5: RuntimeWarning: invalid value encountered in multiply\n",
      "  \"\"\"\n"
     ]
    },
    {
     "data": {
      "image/png": "[encoded data removed]",
      "text/plain": [
       "<matplotlib.figure.Figure at 0x201392fb898>"
      ]
     },
     "metadata": {},
     "output_type": "display_data"
    }
   ],
   "source": [
    "a = 2**np.log(n)\n",
    "b = 2**(2**np.log(n))\n",
    "c = n**(5/2)\n",
    "d = 2**(n**2)\n",
    "e = (n**2)*(np.log(n))\n",
    "\n",
    "plt.plot(n, a)\n",
    "plt.plot(n, b)\n",
    "plt.plot(n, c)\n",
    "plt.plot(n, d)\n",
    "plt.plot(n, e)\n",
    "plt.legend(('a', 'b', 'c', 'd', 'e'), loc='upper left')\n",
    "plt.grid(True)"
   ]
  },
  {
   "cell_type": "markdown",
   "metadata": {},
   "source": [
    "##### Ans: baecd | dabec | adecb | abcde"
   ]
  }
 ],
 "metadata": {
  "kernelspec": {
   "display_name": "Python 3",
   "language": "python",
   "name": "python3"
  },
  "language_info": {
   "codemirror_mode": {
    "name": "ipython",
    "version": 3
   },
   "file_extension": ".py",
   "mimetype": "text/x-python",
   "name": "python",
   "nbconvert_exporter": "python",
   "pygments_lexer": "ipython3",
   "version": "3.6.4"
  }
 },
 "nbformat": 4,
 "nbformat_minor": 2
}
