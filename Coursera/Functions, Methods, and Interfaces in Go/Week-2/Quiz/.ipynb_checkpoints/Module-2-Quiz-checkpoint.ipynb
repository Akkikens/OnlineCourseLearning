{
 "cells": [
  {
   "cell_type": "markdown",
   "metadata": {},
   "source": [
    "#### 1. Is the highlighted assignment to f in the following code a legal variable assignment?"
   ]
  },
  {
   "cell_type": "raw",
   "metadata": {},
   "source": [
    "var f func(string) int\n",
    "\n",
    "func test(x string) int{\n",
    "    return len(x)\n",
    "}\n",
    "\n",
    "func main(){\n",
    "    f = test\n",
    "}"
   ]
  },
  {
   "cell_type": "markdown",
   "metadata": {},
   "source": [
    "##### Ans: Yes"
   ]
  },
  {
   "cell_type": "markdown",
   "metadata": {},
   "source": [
    "#### 2. Which of the following statements correctly declares a function whose argument is another function which takes an integer as an argument and returns a string?"
   ]
  },
  {
   "cell_type": "markdown",
   "metadata": {},
   "source": [
    "##### Ans: func fA(fB func (int) string) "
   ]
  },
  {
   "cell_type": "markdown",
   "metadata": {},
   "source": [
    "#### 3. What is an anonymous function?"
   ]
  },
  {
   "cell_type": "markdown",
   "metadata": {},
   "source": [
    "##### Ans: A function with no name"
   ]
  },
  {
   "cell_type": "markdown",
   "metadata": {},
   "source": [
    "#### 4. Which of the following statements correctly declares a function whose return value is another function which takes a string as an argument and returns an integer?"
   ]
  },
  {
   "cell_type": "markdown",
   "metadata": {},
   "source": [
    "##### Ans: func fA(fB func (int) string) {}"
   ]
  },
  {
   "cell_type": "markdown",
   "metadata": {},
   "source": [
    "#### 5. What does the below code print on the screen?"
   ]
  },
  {
   "cell_type": "raw",
   "metadata": {},
   "source": [
    "func fA() func() int{\n",
    "    i := 0\n",
    "    return func() int{\n",
    "        i++\n",
    "        return i\n",
    "    }\n",
    "}\n",
    "func main(){\n",
    "   fB := fA()\n",
    "   fmt.Print(fB())\n",
    "   fmt.Print(fB())\n",
    "}"
   ]
  },
  {
   "cell_type": "markdown",
   "metadata": {},
   "source": [
    "##### Ans: 12"
   ]
  },
  {
   "cell_type": "markdown",
   "metadata": {},
   "source": [
    "#### 6. What symbols are used in a function declaration to indicate that it is a variadic function?"
   ]
  },
  {
   "cell_type": "markdown",
   "metadata": {},
   "source": [
    "##### Ans: ”...”"
   ]
  },
  {
   "cell_type": "markdown",
   "metadata": {},
   "source": [
    "#### 7. What does this routine produce?"
   ]
  },
  {
   "cell_type": "raw",
   "metadata": {},
   "source": [
    "package main\n",
    "\n",
    "import \"fmt\"\n",
    "\n",
    "func main(){\n",
    "\ti := 1\n",
    "\tfmt.Print(i)\n",
    "\n",
    "\ti++\n",
    "\tdefer fmt.Print(i+1)\n",
    "\n",
    "\tfmt.Print(i)\n",
    "}"
   ]
  },
  {
   "cell_type": "markdown",
   "metadata": {},
   "source": [
    "##### Ans: 123"
   ]
  }
 ],
 "metadata": {
  "kernelspec": {
   "display_name": "Python 3",
   "language": "python",
   "name": "python3"
  },
  "language_info": {
   "codemirror_mode": {
    "name": "ipython",
    "version": 3
   },
   "file_extension": ".py",
   "mimetype": "text/x-python",
   "name": "python",
   "nbconvert_exporter": "python",
   "pygments_lexer": "ipython3",
   "version": "3.6.4"
  }
 },
 "nbformat": 4,
 "nbformat_minor": 2
}
