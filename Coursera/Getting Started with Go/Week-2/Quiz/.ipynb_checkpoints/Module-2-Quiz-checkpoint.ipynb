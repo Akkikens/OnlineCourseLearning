{
 "cells": [
  {
   "cell_type": "markdown",
   "metadata": {},
   "source": [
    "#### 1. Which of the following expressions does NOT compute the average of two integers a and b?"
   ]
  },
  {
   "cell_type": "markdown",
   "metadata": {},
   "source": [
    "##### Ans: avg := 2 % (a + b)"
   ]
  },
  {
   "cell_type": "markdown",
   "metadata": {},
   "source": [
    "#### 2. What is printed when the following program is executed?"
   ]
  },
  {
   "cell_type": "raw",
   "metadata": {},
   "source": [
    "func main() {\n",
    "  i, _ := strconv.Atoi(\"10\")\n",
    "  y := i * 2\n",
    "  fmt.Println(y)\n",
    "}\n"
   ]
  },
  {
   "cell_type": "markdown",
   "metadata": {},
   "source": [
    "##### Ans: 20"
   ]
  },
  {
   "cell_type": "markdown",
   "metadata": {},
   "source": [
    "#### 3. What is printed when the following program is executed?"
   ]
  },
  {
   "cell_type": "raw",
   "metadata": {},
   "source": [
    "func main() {\n",
    "  s := strings.Replace(\"ianianian\", \"ni\", \"in\", 2)\n",
    "  fmt.Println(s)\n",
    "}"
   ]
  },
  {
   "cell_type": "markdown",
   "metadata": {},
   "source": [
    "##### Ans: iainainan"
   ]
  },
  {
   "cell_type": "markdown",
   "metadata": {},
   "source": [
    "#### 4. What is printed by this code?"
   ]
  },
  {
   "cell_type": "raw",
   "metadata": {},
   "source": [
    "func main() {\n",
    "  x:=7\n",
    "  switch {\n",
    "    case x>3:\n",
    "      fmt.Printf(\"1\")\n",
    "    case x>5:\n",
    "      fmt.Printf(\"2\")\n",
    "    case x==7:\n",
    "      fmt.Printf(\"3\")\n",
    "    default: \n",
    "      fmt.Printf(\"4\")\n",
    "  }\n",
    "}"
   ]
  },
  {
   "cell_type": "markdown",
   "metadata": {},
   "source": [
    "##### Ans: 1"
   ]
  },
  {
   "cell_type": "markdown",
   "metadata": {},
   "source": [
    "#### 5. What is printed by this code?"
   ]
  },
  {
   "cell_type": "raw",
   "metadata": {},
   "source": [
    "func main() {\n",
    "  var xtemp int\n",
    "  x1 := 0\n",
    "  x2 := 1\n",
    "  for x:=0; x<5; x++ {\n",
    "    xtemp = x2\n",
    "    x2 = x2 + x1\n",
    "    x1 = xtemp\n",
    "  }\n",
    "  fmt.Println(x2)\n",
    "}"
   ]
  },
  {
   "cell_type": "markdown",
   "metadata": {},
   "source": [
    "##### Ans: 8"
   ]
  },
  {
   "cell_type": "markdown",
   "metadata": {},
   "source": [
    "#### 6. (True or False) This code compiles correctly."
   ]
  },
  {
   "cell_type": "raw",
   "metadata": {},
   "source": [
    "func main() {\n",
    "  var x int\n",
    "  var y *int\n",
    "  z := 3\n",
    "  y = &z\n",
    "  x = &y\n",
    "}"
   ]
  },
  {
   "cell_type": "markdown",
   "metadata": {},
   "source": [
    "##### Ans: False"
   ]
  },
  {
   "cell_type": "markdown",
   "metadata": {},
   "source": [
    "#### 7. Which integer type provides higher accuracy?"
   ]
  },
  {
   "cell_type": "markdown",
   "metadata": {},
   "source": [
    "##### Ans: All of these types provide the same accuracy"
   ]
  }
 ],
 "metadata": {
  "kernelspec": {
   "display_name": "Python 3",
   "language": "python",
   "name": "python3"
  },
  "language_info": {
   "codemirror_mode": {
    "name": "ipython",
    "version": 3
   },
   "file_extension": ".py",
   "mimetype": "text/x-python",
   "name": "python",
   "nbconvert_exporter": "python",
   "pygments_lexer": "ipython3",
   "version": "3.6.4"
  }
 },
 "nbformat": 4,
 "nbformat_minor": 2
}
