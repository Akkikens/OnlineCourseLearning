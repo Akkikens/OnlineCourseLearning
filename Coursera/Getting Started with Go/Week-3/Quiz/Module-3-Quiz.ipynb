{
 "cells": [
  {
   "cell_type": "markdown",
   "metadata": {},
   "source": [
    "#### 1. What is printed when the following program is executed?"
   ]
  },
  {
   "cell_type": "raw",
   "metadata": {},
   "source": [
    "func main() {\n",
    "  x := []int {4, 8, 5}\n",
    "  y := -1\n",
    "  for _, elt := range x {\n",
    "    if elt > y {\n",
    "      y = elt\n",
    "    }\n",
    "  }\n",
    "  fmt.Print(y)\n",
    "}\n"
   ]
  },
  {
   "cell_type": "markdown",
   "metadata": {},
   "source": [
    "##### Ans: 8"
   ]
  },
  {
   "cell_type": "markdown",
   "metadata": {},
   "source": [
    "#### 2. What is printed when the following program is executed?"
   ]
  },
  {
   "cell_type": "raw",
   "metadata": {},
   "source": [
    "func main() {\n",
    "  x := [...]int {4, 8, 5}\n",
    "  y := x[0:2]\n",
    "  z := x[1:3]\n",
    "  y[0] = 1\n",
    "  z[1] = 3\n",
    "  fmt.Print(x)\n",
    "}"
   ]
  },
  {
   "cell_type": "markdown",
   "metadata": {},
   "source": [
    "##### Ans: [1 8 3]"
   ]
  },
  {
   "cell_type": "markdown",
   "metadata": {},
   "source": [
    "#### 3. What is printed when the following program is executed?"
   ]
  },
  {
   "cell_type": "raw",
   "metadata": {},
   "source": [
    "func main() {\n",
    "  x := [...]int {1, 2, 3, 4, 5}\n",
    "  y := x[0:2]\n",
    "  z := x[1:4]\n",
    "  fmt.Print(len(y), cap(y), len(z), cap(z))\n",
    "}"
   ]
  },
  {
   "cell_type": "markdown",
   "metadata": {},
   "source": [
    "##### Ans: 2 5 3 4"
   ]
  },
  {
   "cell_type": "markdown",
   "metadata": {},
   "source": [
    "#### 4. What is printed when the following program is executed?"
   ]
  },
  {
   "cell_type": "raw",
   "metadata": {},
   "source": [
    "func main() {\n",
    "  x := map[string]int {\n",
    "    \"ian\": 1, \"harris\": 2}\n",
    "  for i, j := range x {\n",
    "    if i == \"harris\" {\n",
    "      fmt.Print(i, j)\n",
    "    }\n",
    "  }\n",
    "}"
   ]
  },
  {
   "cell_type": "markdown",
   "metadata": {},
   "source": [
    "##### Ans: harris2"
   ]
  },
  {
   "cell_type": "markdown",
   "metadata": {},
   "source": [
    "#### 5. What is printed when the following program is executed?"
   ]
  },
  {
   "cell_type": "raw",
   "metadata": {},
   "source": [
    "type P struct {\n",
    "    x string\n",
    "y int\n",
    "} \n",
    "func main() {\n",
    "  b := P{\"x\", -1}\n",
    "  a := [...]P{P{\"a\", 10}, \n",
    "        P{\"b\", 2},\n",
    "        P{\"c\", 3}}\n",
    "  for _, z := range a {\n",
    "    if z.y > b.y {\n",
    "      b = z\n",
    "    }\n",
    "  }\n",
    "  fmt.Println(b.x)\n",
    "}"
   ]
  },
  {
   "cell_type": "markdown",
   "metadata": {},
   "source": [
    "##### Ans: a"
   ]
  },
  {
   "cell_type": "markdown",
   "metadata": {},
   "source": [
    "#### 6. What is printed when the following program is executed?"
   ]
  },
  {
   "cell_type": "raw",
   "metadata": {},
   "source": [
    "func main() {\n",
    "  s := make([]int, 0, 3)\n",
    "  s = append(s, 100)\n",
    "  fmt.Println(len(s), cap(s))\n",
    "}\n"
   ]
  },
  {
   "cell_type": "markdown",
   "metadata": {},
   "source": [
    "##### Ans: 1 3"
   ]
  }
 ],
 "metadata": {
  "kernelspec": {
   "display_name": "Python 3",
   "language": "python",
   "name": "python3"
  },
  "language_info": {
   "codemirror_mode": {
    "name": "ipython",
    "version": 3
   },
   "file_extension": ".py",
   "mimetype": "text/x-python",
   "name": "python",
   "nbconvert_exporter": "python",
   "pygments_lexer": "ipython3",
   "version": "3.6.4"
  }
 },
 "nbformat": 4,
 "nbformat_minor": 2
}
