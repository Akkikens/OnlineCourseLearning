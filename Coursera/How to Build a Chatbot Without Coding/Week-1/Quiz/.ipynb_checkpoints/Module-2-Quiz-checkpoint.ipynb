{
 "cells": [
  {
   "cell_type": "markdown",
   "metadata": {},
   "source": [
    "#### 1. Watson Assistant (formerly Conversation) can only be used to create chatbots in English."
   ]
  },
  {
   "cell_type": "markdown",
   "metadata": {},
   "source": [
    "##### Ans: False"
   ]
  },
  {
   "cell_type": "markdown",
   "metadata": {},
   "source": [
    "#### 2. Select all the statements that are true."
   ]
  },
  {
   "cell_type": "markdown",
   "metadata": {},
   "source": [
    "##### Ans: \n",
    "- An intent is a purpose or goal expressed by the user's input\n",
    "- Intents start with an # symbol\n",
    "- We train Watson by providing examples for our intents\n",
    "- We should provide Watson with at least 5 examples per intent"
   ]
  },
  {
   "cell_type": "markdown",
   "metadata": {},
   "source": [
    "#### 3. Select all the statements that are true."
   ]
  },
  {
   "cell_type": "markdown",
   "metadata": {},
   "source": [
    "##### Ans: \n",
    "- Entities start with an @ symbol\n",
    "- Two questions from the user can have the same intent but different entity values\n",
    "- System entities handle common scenarios like detecting dates in the user input\n",
    "- @occasion:(Valentine's Day) is a valid entity value"
   ]
  },
  {
   "cell_type": "markdown",
   "metadata": {},
   "source": [
    "#### 4. Select all the statements that are true."
   ]
  },
  {
   "cell_type": "markdown",
   "metadata": {},
   "source": [
    "##### Ans: \n",
    "- The three key components of Watson Assistant (formerly Conversation) are Intents, Entities, and Dialog\n",
    "- A node can have a name, condition, and one or more responses\n",
    "- In general, children nodes are considered if the parent node condition is met first\n",
    "- A node can have multiple responses"
   ]
  },
  {
   "cell_type": "markdown",
   "metadata": {},
   "source": [
    "#### 5. Select all the statements that are true."
   ]
  },
  {
   "cell_type": "markdown",
   "metadata": {},
   "source": [
    "##### Ans: \n",
    "- When designing a chatbot, we should consider positioning, tone, and personality\n",
    "- We should avoid \"yes\" and \"no\" answers when possible\n",
    "- The tone and personality of our chatbot can affect how well it is perceived by the user"
   ]
  }
 ],
 "metadata": {
  "kernelspec": {
   "display_name": "Python 3",
   "language": "python",
   "name": "python3"
  },
  "language_info": {
   "codemirror_mode": {
    "name": "ipython",
    "version": 3
   },
   "file_extension": ".py",
   "mimetype": "text/x-python",
   "name": "python",
   "nbconvert_exporter": "python",
   "pygments_lexer": "ipython3",
   "version": "3.6.4"
  }
 },
 "nbformat": 4,
 "nbformat_minor": 2
}
