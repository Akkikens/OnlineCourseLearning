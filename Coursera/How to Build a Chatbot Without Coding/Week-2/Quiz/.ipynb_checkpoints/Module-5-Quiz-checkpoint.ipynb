{
 "cells": [
  {
   "cell_type": "markdown",
   "metadata": {},
   "source": [
    "#### 1. The Watson Assistant (formerly Conversation) plugin for WordPress allows us to deploy a chatbot by specifying the credentials of the corresponding workspace, without the need to develop a separate, proxy application."
   ]
  },
  {
   "cell_type": "markdown",
   "metadata": {},
   "source": [
    "##### Ans: True"
   ]
  },
  {
   "cell_type": "markdown",
   "metadata": {},
   "source": [
    "#### 2. Once set, context variables can be accessed for the duration of the conversation with a given user."
   ]
  },
  {
   "cell_type": "markdown",
   "metadata": {},
   "source": [
    "##### Ans: True"
   ]
  },
  {
   "cell_type": "markdown",
   "metadata": {},
   "source": [
    "#### 3. Slots allow us to collect information from the user and store it in context variables."
   ]
  },
  {
   "cell_type": "markdown",
   "metadata": {},
   "source": [
    "##### Ans: True"
   ]
  },
  {
   "cell_type": "markdown",
   "metadata": {},
   "source": [
    "#### 4. A node can only have one slot and therefore cannot assign more than one context variable."
   ]
  },
  {
   "cell_type": "markdown",
   "metadata": {},
   "source": [
    "##### Ans: False"
   ]
  },
  {
   "cell_type": "markdown",
   "metadata": {},
   "source": [
    "#### 5. Imagine the following scenario. A node has a #greetings intent condition and a slot defined with the following three values: @sys-person, username, and \"What's your name?\". The response for the node is \"Hi $username!\" if $username is defined, and \"Hi!\" otherwise. When the user starts chatting they immediately greet the bot with, \"Hi there, I'm Tony\". What will the chatbot reply?"
   ]
  },
  {
   "cell_type": "markdown",
   "metadata": {},
   "source": [
    "##### Ans: \"Hi Tony!\" because the chatbot detects @sys-person in the input and assigns it to username before responding."
   ]
  }
 ],
 "metadata": {
  "kernelspec": {
   "display_name": "Python 3",
   "language": "python",
   "name": "python3"
  },
  "language_info": {
   "codemirror_mode": {
    "name": "ipython",
    "version": 3
   },
   "file_extension": ".py",
   "mimetype": "text/x-python",
   "name": "python",
   "nbconvert_exporter": "python",
   "pygments_lexer": "ipython3",
   "version": "3.6.4"
  }
 },
 "nbformat": 4,
 "nbformat_minor": 2
}
