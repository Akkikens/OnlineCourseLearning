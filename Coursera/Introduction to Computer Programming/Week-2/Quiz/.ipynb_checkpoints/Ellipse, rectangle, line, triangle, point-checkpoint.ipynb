{
 "cells": [
  {
   "cell_type": "markdown",
   "metadata": {},
   "source": [
    "#### 1. How many arguments does the point() function take?\n",
    "\n",
    "#### Hint: Arguments are the numbers in brackets at the end of the function call separated by commas."
   ]
  },
  {
   "cell_type": "markdown",
   "metadata": {},
   "source": [
    "##### Ans: 2"
   ]
  },
  {
   "cell_type": "markdown",
   "metadata": {},
   "source": [
    "#### 2. Which of the following commands draw the line in the picture below? Two of the answers below are correct, select them both.\n",
    "<img src=\"https://d3c33hcgiwev3.cloudfront.net/imageAssetProxy.v1/nMS1mWr8Eei5FgrpHNEYyg_18bd46daf1950f5657f53f214320209e_2.1-shape-line.png?expiry=1544832000000&amp;hmac=a8hwtSgSBFe1fFW9mdSRmaWY79dfZsDC5W2CSYoAkn4\" alt=\"\">\n",
    "#### Hint: Don't worry about the precise coordinates try and work out the rough direction of the line."
   ]
  },
  {
   "cell_type": "markdown",
   "metadata": {},
   "source": [
    "##### Ans: line(100, 80, 320, 250); line(320, 250, 100, 80);"
   ]
  },
  {
   "cell_type": "markdown",
   "metadata": {},
   "source": [
    "#### 3. Which of the following commands drew the shape in the picture below?\n",
    "<img src=\"https://d3c33hcgiwev3.cloudfront.net/imageAssetProxy.v1/h86zaWsMEeiD7xKWOWvUbg_9cadb375880d62f8229f658d44b89012_2.1-shape-ellipse.png?expiry=1544832000000&amp;hmac=l0egHBzncXTXeiRrD4YY3usje34q-XoIYGPu1WhvfpE\" alt=\"\">"
   ]
  },
  {
   "cell_type": "markdown",
   "metadata": {},
   "source": [
    "##### Ans: ellipse(200, 150, 100, 50);"
   ]
  },
  {
   "cell_type": "markdown",
   "metadata": {},
   "source": [
    "#### 4. Which of the following commands turns the shape green?\n",
    "<img src=\"https://d3c33hcgiwev3.cloudfront.net/imageAssetProxy.v1/KEqAGmsbEeiEwg4WmF3VaA_c7e3397e563725cc4f7f7eea9d50422a_2.1-shape-fill.png?expiry=1544832000000&amp;hmac=FG_stOeOMOplWphkwSt6rObgXhNG6HT4D5QxDTgitYg\" alt=\"\">"
   ]
  },
  {
   "cell_type": "markdown",
   "metadata": {},
   "source": [
    "##### Ans: fill(0,255,0)"
   ]
  },
  {
   "cell_type": "markdown",
   "metadata": {},
   "source": [
    "#### 5. Which of the following commands draws a square to the screen?"
   ]
  },
  {
   "cell_type": "markdown",
   "metadata": {},
   "source": [
    "##### Ans: rect(50, 100, 100, 100)"
   ]
  },
  {
   "cell_type": "markdown",
   "metadata": {},
   "source": [
    "#### 6. Do the following two triangle commands draw the same triangle or a different triangle?"
   ]
  },
  {
   "cell_type": "raw",
   "metadata": {},
   "source": [
    "triangle(100,100,150,50,200,100);\n",
    "triangle(150,50,200,100,100,100);"
   ]
  },
  {
   "cell_type": "markdown",
   "metadata": {},
   "source": [
    "##### Ans: the same triangle "
   ]
  },
  {
   "cell_type": "markdown",
   "metadata": {},
   "source": [
    "#### 7. The code below draws the triangle as shown in the first image. what is the smallest number of arguments used in the triangle function call do you need to change to draw the triangle in the second image?"
   ]
  },
  {
   "cell_type": "raw",
   "metadata": {},
   "source": [
    "function setup() { \n",
    "  createCanvas(400, 400);\n",
    "} \n",
    "\n",
    "function draw() { \n",
    "  background(0);\n",
    "  fill(200,0,0);\n",
    "  triangle(100,100,150,50,200,100);\n",
    "}"
   ]
  },
  {
   "cell_type": "markdown",
   "metadata": {},
   "source": [
    "##### Ans: 4 (Wrong)"
   ]
  },
  {
   "cell_type": "markdown",
   "metadata": {},
   "source": [
    "#### 8. Which of the following shapes can you not draw with a single P5.js command?"
   ]
  },
  {
   "cell_type": "markdown",
   "metadata": {},
   "source": [
    "##### Ans: star"
   ]
  }
 ],
 "metadata": {
  "kernelspec": {
   "display_name": "Python 3",
   "language": "python",
   "name": "python3"
  },
  "language_info": {
   "codemirror_mode": {
    "name": "ipython",
    "version": 3
   },
   "file_extension": ".py",
   "mimetype": "text/x-python",
   "name": "python",
   "nbconvert_exporter": "python",
   "pygments_lexer": "ipython3",
   "version": "3.6.4"
  }
 },
 "nbformat": 4,
 "nbformat_minor": 2
}
