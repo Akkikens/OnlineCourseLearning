{
 "cells": [
  {
   "cell_type": "markdown",
   "metadata": {},
   "source": [
    "#### 1. When is the setup() function called?"
   ]
  },
  {
   "cell_type": "markdown",
   "metadata": {},
   "source": [
    "##### Ans: at the start of the programs execution"
   ]
  },
  {
   "cell_type": "markdown",
   "metadata": {},
   "source": [
    "#### 2. When is the draw() function called?"
   ]
  },
  {
   "cell_type": "markdown",
   "metadata": {},
   "source": [
    "##### Ans: every frame of animation"
   ]
  },
  {
   "cell_type": "markdown",
   "metadata": {},
   "source": [
    "#### 3. Where would you normally call createCanvas()?"
   ]
  },
  {
   "cell_type": "markdown",
   "metadata": {},
   "source": [
    "##### Ans: in the setup() function "
   ]
  },
  {
   "cell_type": "markdown",
   "metadata": {},
   "source": [
    "#### 4. Look at the following code carefully. What do you expect to see drawn to the screen when the application runs?"
   ]
  },
  {
   "cell_type": "raw",
   "metadata": {},
   "source": [
    "function setup()\n",
    "{\n",
    "\tcreateCanvas(500, 500);\n",
    "}\n",
    "\n",
    "function draw()\n",
    "{\n",
    "\n",
    "\tfill(255, 0, 0);\n",
    "\trect(100, 100, 200, 200);\n",
    "\tfill(0, 0, 255);\n",
    "\trect(100, 100, 300, 300);\n",
    "}"
   ]
  },
  {
   "cell_type": "markdown",
   "metadata": {},
   "source": [
    "##### Ans: a blue square with a smaller red square overlapping it's top left corner\n",
    "<img src=\"https://d3c33hcgiwev3.cloudfront.net/imageAssetProxy.v1/XPQHnWpOEei5FgrpHNEYyg_6496d3b1627e4273b0e6a26e78dbe002_2.1-flow-overlap2.jpeg?expiry=1544832000000&amp;hmac=vGLsZq7cYG2RbEnCblC9SaSAYQVNyLMXK1cXoZIA1Do\" alt=\"\">"
   ]
  },
  {
   "cell_type": "markdown",
   "metadata": {},
   "source": [
    "#### 5. Look at the following code carefully. What do you expect to see drawn to the screen when the application runs?"
   ]
  },
  {
   "cell_type": "raw",
   "metadata": {},
   "source": [
    "function setup()\n",
    "{\n",
    "\tcreateCanvas(500, 500);\n",
    "}\n",
    "\n",
    "function draw()\n",
    "{\n",
    "\tfill(255, 0, 0, 255);\n",
    "\trect(100, 100, 200, 200);\n",
    "\tfill(0, 0, 255, 100);\n",
    "\trect(100, 100, 300, 300);\n",
    "}"
   ]
  },
  {
   "cell_type": "markdown",
   "metadata": {},
   "source": [
    "##### Ans: a blue square with the red square partially visible underneath which is appearing as a purple colour\n",
    "<img src=\"https://d3c33hcgiwev3.cloudfront.net/imageAssetProxy.v1/8ajhMWpOEeiMThIw0gXgsA_265c91ba49a9fcaa4351f5c5161d40ab_2.1-flow-overlap3.jpeg?expiry=1544832000000&amp;hmac=YMM8emDR0FPCrFuXgkrEFoE6oGCjY49rj6k1Jtw4VT4\" alt=\"\">"
   ]
  },
  {
   "cell_type": "markdown",
   "metadata": {},
   "source": [
    "#### 6. Look at the following code carefully. What do you expect to be drawn to the screen when it runs?"
   ]
  },
  {
   "cell_type": "raw",
   "metadata": {},
   "source": [
    "function setup()\n",
    "{\n",
    "\tcreateCanvas(500, 500);\n",
    "}\n",
    "\n",
    "function draw()\n",
    "{\n",
    "\n",
    "\tfill(0, 0, 255);\n",
    "\trect(100, 100, 300, 300);\n",
    "\tfill(255, 0, 0);\n",
    "\trect(100, 100, 200, 200);\n",
    "}"
   ]
  },
  {
   "cell_type": "markdown",
   "metadata": {},
   "source": [
    "##### Ans: a blue square with a smaller red square overlapping its top left corner\n",
    "<img src=\"https://d3c33hcgiwev3.cloudfront.net/imageAssetProxy.v1/tqEcx2pQEei5FgrpHNEYyg_19a4e4f45ec6dd3a21578f125c699951_2.1-flow-overlap2.jpeg?expiry=1544832000000&amp;hmac=I7qcHXH7CBnnCJPgXi5eJ3KPxe5lbyFXwa1raCRYoIU\" alt=\"\">"
   ]
  },
  {
   "cell_type": "markdown",
   "metadata": {},
   "source": [
    "#### 7. Consider the following code carefully. What is displayed to the screen when the program is run?"
   ]
  },
  {
   "cell_type": "raw",
   "metadata": {},
   "source": [
    "function setup()\n",
    "{\n",
    "\tcreateCanvas(500, 500);\n",
    "}\n",
    "\n",
    "function draw()\n",
    "{\n",
    "\n",
    "\tfill(0, 0, 255);\n",
    "\trect(100, 100, 300, 300);\n",
    "\tstrokeWeight(10);\n",
    "}"
   ]
  },
  {
   "cell_type": "markdown",
   "metadata": {},
   "source": [
    "##### Ans: a blue square with a thick black outline.\n",
    "<img src=\"https://d3c33hcgiwev3.cloudfront.net/imageAssetProxy.v1/KEOeOGpTEeiEwg4WmF3VaA_c2efb509bb8c8533444b867264ffdda3_2.1-flow-stroke1.jpeg?expiry=1544832000000&amp;hmac=dFTs46naFhpJvxIn1PIzOxVGmr19A8R6sVuW-C2_Mjg\" alt=\"\">"
   ]
  },
  {
   "cell_type": "markdown",
   "metadata": {},
   "source": [
    "#### 8. Consider the following code carefully. What is displayed to the screen when the program is run?"
   ]
  },
  {
   "cell_type": "raw",
   "metadata": {},
   "source": [
    "function setup()\n",
    "{\n",
    "\tcreateCanvas(500, 500);\n",
    "}\n",
    "\n",
    "function draw()\n",
    "{\n",
    "\tnoStroke();\n",
    "\tfill(255, 0, 0, 255);\n",
    "\trect(100, 100, 200, 200);\n",
    "\tfill(0, 0, 255, 0);\n",
    "\trect(100, 100, 300, 300);\n",
    "}"
   ]
  },
  {
   "cell_type": "markdown",
   "metadata": {},
   "source": [
    "#### Hint: If there is some code you don't recognise. Do not forget you can look it up in the p5.js reference."
   ]
  },
  {
   "cell_type": "markdown",
   "metadata": {},
   "source": [
    "##### Ans: a red square only, with no outline\n",
    "<img src=\"https://d3c33hcgiwev3.cloudfront.net/imageAssetProxy.v1/9HuO2mpWEeiEwg4WmF3VaA_d8a3cf1b25b7ce1e925413495774dcdb_2.1-flow-invisible1.jpeg?expiry=1544832000000&amp;hmac=stpjCFtBGUMei3S0oRCkct_Zj2ZMA3Fp4H751hrd-9k\" alt=\"\">"
   ]
  }
 ],
 "metadata": {
  "kernelspec": {
   "display_name": "Python 3",
   "language": "python",
   "name": "python3"
  },
  "language_info": {
   "codemirror_mode": {
    "name": "ipython",
    "version": 3
   },
   "file_extension": ".py",
   "mimetype": "text/x-python",
   "name": "python",
   "nbconvert_exporter": "python",
   "pygments_lexer": "ipython3",
   "version": "3.6.4"
  }
 },
 "nbformat": 4,
 "nbformat_minor": 2
}
