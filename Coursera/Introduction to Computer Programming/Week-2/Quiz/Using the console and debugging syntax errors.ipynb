{
 "cells": [
  {
   "cell_type": "markdown",
   "metadata": {},
   "source": [
    "#### 1. Where do you find the console?"
   ]
  },
  {
   "cell_type": "markdown",
   "metadata": {},
   "source": [
    "##### Ans: in the browser's developer settings"
   ]
  },
  {
   "cell_type": "markdown",
   "metadata": {},
   "source": [
    "#### 2. Look at the following error. Where is the error in the code? \n",
    "<img src=\"https://d3c33hcgiwev3.cloudfront.net/imageAssetProxy.v1/HCTi522EEei5FgrpHNEYyg_830a3a392d72e586751986e36e8c046b_2.2-debug-errorReect.jpeg?expiry=1545004800000&amp;hmac=igN1NS98ADO7rpw8qCyQzCTeO3XzO3H4y0UDSn-0Uvw\" alt=\"\">"
   ]
  },
  {
   "cell_type": "markdown",
   "metadata": {},
   "source": [
    "##### Ans: on line 8 of the sketch"
   ]
  },
  {
   "cell_type": "markdown",
   "metadata": {},
   "source": [
    "#### 3. What kind of error or errors is included in the following code?"
   ]
  },
  {
   "cell_type": "raw",
   "metadata": {},
   "source": [
    "function setup()\n",
    "{\n",
    "\tcreateCanvas(500, 500);\n",
    "}\n",
    "\n",
    "function draw()\n",
    "{\n",
    "\ttriangle(100, 100, 150, 100);\n",
    "}"
   ]
  },
  {
   "cell_type": "markdown",
   "metadata": {},
   "source": [
    "##### Ans: an argument error"
   ]
  },
  {
   "cell_type": "markdown",
   "metadata": {},
   "source": [
    "#### 4. What kind of error is included in the following code?"
   ]
  },
  {
   "cell_type": "raw",
   "metadata": {},
   "source": [
    "function setup()\n",
    "{\n",
    "\tcreatecanvas(500, 500);\n",
    "}\n",
    "\n",
    "function draw()\n",
    "{\n",
    "\trect(100, 100, 150, 100);\n",
    "}"
   ]
  },
  {
   "cell_type": "markdown",
   "metadata": {},
   "source": [
    "##### Ans: syntax error"
   ]
  },
  {
   "cell_type": "markdown",
   "metadata": {},
   "source": [
    "#### 5. What kind of error is included in the following code?"
   ]
  },
  {
   "cell_type": "raw",
   "metadata": {},
   "source": [
    "function setup()\n",
    "{\n",
    "\tcreateCanvas(500, 500);\n",
    "}\n",
    "\n",
    "function draw()\n",
    "{\n",
    "\trect(100, 100, 150, 100);\n"
   ]
  },
  {
   "cell_type": "markdown",
   "metadata": {},
   "source": [
    "##### Ans: syntax error"
   ]
  }
 ],
 "metadata": {
  "kernelspec": {
   "display_name": "Python 3",
   "language": "python",
   "name": "python3"
  },
  "language_info": {
   "codemirror_mode": {
    "name": "ipython",
    "version": 3
   },
   "file_extension": ".py",
   "mimetype": "text/x-python",
   "name": "python",
   "nbconvert_exporter": "python",
   "pygments_lexer": "ipython3",
   "version": "3.6.4"
  }
 },
 "nbformat": 4,
 "nbformat_minor": 2
}
