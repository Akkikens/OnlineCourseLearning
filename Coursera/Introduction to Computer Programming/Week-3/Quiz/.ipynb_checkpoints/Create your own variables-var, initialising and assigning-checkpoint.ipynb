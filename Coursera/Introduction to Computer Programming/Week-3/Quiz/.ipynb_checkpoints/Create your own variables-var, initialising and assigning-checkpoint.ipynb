{
 "cells": [
  {
   "cell_type": "markdown",
   "metadata": {},
   "source": [
    "#### 1. A variable name cannot start with...?"
   ]
  },
  {
   "cell_type": "markdown",
   "metadata": {},
   "source": [
    "##### Ans: a number"
   ]
  },
  {
   "cell_type": "markdown",
   "metadata": {},
   "source": [
    "#### 2. Which of the following variables are valid names? (Three are correct.)"
   ]
  },
  {
   "cell_type": "markdown",
   "metadata": {},
   "source": [
    "##### Ans: my_var1, _1myVar, myVar"
   ]
  },
  {
   "cell_type": "markdown",
   "metadata": {},
   "source": [
    "#### 3. Formally, creating a variable is called?"
   ]
  },
  {
   "cell_type": "markdown",
   "metadata": {},
   "source": [
    "##### Ans: declaring"
   ]
  },
  {
   "cell_type": "markdown",
   "metadata": {},
   "source": [
    "#### 4. Formally, assigning a variable its first value is called?"
   ]
  },
  {
   "cell_type": "markdown",
   "metadata": {},
   "source": [
    "##### Ans: initialising"
   ]
  },
  {
   "cell_type": "markdown",
   "metadata": {},
   "source": [
    "#### 5. What does a equal at the end of executing the following code?"
   ]
  },
  {
   "cell_type": "raw",
   "metadata": {},
   "source": [
    "var a = 3;\n",
    "var b = 23;\n",
    "var c = b; \n",
    "a = c; "
   ]
  },
  {
   "cell_type": "markdown",
   "metadata": {},
   "source": [
    "##### Ans: 23"
   ]
  },
  {
   "cell_type": "markdown",
   "metadata": {},
   "source": [
    "#### 6. What does the variable 'a' equal at the end of the setup() function in the code snippet below?"
   ]
  },
  {
   "cell_type": "raw",
   "metadata": {},
   "source": [
    "var a = 0;\n",
    "\n",
    "function setup()\n",
    "{\n",
    "\tcreateCanvas(400, 200);\n",
    "\ta = width;\n",
    "}"
   ]
  },
  {
   "cell_type": "markdown",
   "metadata": {},
   "source": [
    "##### Ans: 400"
   ]
  },
  {
   "cell_type": "markdown",
   "metadata": {},
   "source": [
    "#### 7. What does the variable 'a' equal at the end of the setup() function in the code snippet below?"
   ]
  },
  {
   "cell_type": "raw",
   "metadata": {},
   "source": [
    "var a = 0;\n",
    "\n",
    "function setup()\n",
    "{\n",
    "\tcreateCanvas(400, 200);\n",
    "\ta(height);\n",
    "}"
   ]
  },
  {
   "cell_type": "markdown",
   "metadata": {},
   "source": [
    "##### Ans: The code contains an error."
   ]
  },
  {
   "cell_type": "markdown",
   "metadata": {},
   "source": [
    "#### 8. True or False: JavaScript variables can be created without the var keyword?"
   ]
  },
  {
   "cell_type": "markdown",
   "metadata": {},
   "source": [
    "##### Ans: True"
   ]
  }
 ],
 "metadata": {
  "kernelspec": {
   "display_name": "Python 3",
   "language": "python",
   "name": "python3"
  },
  "language_info": {
   "codemirror_mode": {
    "name": "ipython",
    "version": 3
   },
   "file_extension": ".py",
   "mimetype": "text/x-python",
   "name": "python",
   "nbconvert_exporter": "python",
   "pygments_lexer": "ipython3",
   "version": "3.6.4"
  }
 },
 "nbformat": 4,
 "nbformat_minor": 2
}
