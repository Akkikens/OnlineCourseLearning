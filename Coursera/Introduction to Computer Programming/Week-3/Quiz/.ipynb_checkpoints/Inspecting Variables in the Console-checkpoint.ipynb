{
 "cells": [
  {
   "cell_type": "markdown",
   "metadata": {},
   "source": [
    "#### 1. Which 2 of the following commands will write text to the console? (The others will cause an error.)"
   ]
  },
  {
   "cell_type": "markdown",
   "metadata": {},
   "source": [
    "##### Ans: \n",
    "<ul>\n",
    "    <li>console.log(\"hello console\");</li>\n",
    "    <li>console.log('hello console');</li>\n",
    "</ul>"
   ]
  },
  {
   "cell_type": "markdown",
   "metadata": {},
   "source": [
    "#### 2. What arithmetic operator replaces ??? in the following console.log() command to correctly display the message in the console?"
   ]
  },
  {
   "cell_type": "raw",
   "metadata": {},
   "source": [
    "var x = 42;\n",
    "console.log(\"the value of x is \" ??? x);"
   ]
  },
  {
   "cell_type": "markdown",
   "metadata": {},
   "source": [
    "##### Ans: +"
   ]
  },
  {
   "cell_type": "markdown",
   "metadata": {},
   "source": [
    "#### 3. What is printed to the console during the execution of the following program?"
   ]
  },
  {
   "cell_type": "raw",
   "metadata": {},
   "source": [
    "var a = 0;\n",
    "\n",
    "function setup()\n",
    "{\n",
    "\tcreateCanvas(500, 500);\n",
    "}\n",
    "\n",
    "function draw()\n",
    "{\n",
    "\tbackground(200);\n",
    "\tfill(255, 0, 255);\n",
    "\tellipse(a, a, 100, 100);\n",
    "\ta += 1;\n",
    "\tconsole.log(a);\n",
    "\n",
    "}"
   ]
  },
  {
   "cell_type": "markdown",
   "metadata": {},
   "source": [
    "##### Ans: 1, 2, 3, 4, 5, ..."
   ]
  },
  {
   "cell_type": "markdown",
   "metadata": {},
   "source": [
    "#### 4. What is printed to the console after executing the following code snippet?"
   ]
  },
  {
   "cell_type": "raw",
   "metadata": {},
   "source": [
    "var x = 42;\n",
    "console.log(y);"
   ]
  },
  {
   "cell_type": "markdown",
   "metadata": {},
   "source": [
    "##### Ans: An error occurs"
   ]
  }
 ],
 "metadata": {
  "kernelspec": {
   "display_name": "Python 3",
   "language": "python",
   "name": "python3"
  },
  "language_info": {
   "codemirror_mode": {
    "name": "ipython",
    "version": 3
   },
   "file_extension": ".py",
   "mimetype": "text/x-python",
   "name": "python",
   "nbconvert_exporter": "python",
   "pygments_lexer": "ipython3",
   "version": "3.6.4"
  }
 },
 "nbformat": 4,
 "nbformat_minor": 2
}
