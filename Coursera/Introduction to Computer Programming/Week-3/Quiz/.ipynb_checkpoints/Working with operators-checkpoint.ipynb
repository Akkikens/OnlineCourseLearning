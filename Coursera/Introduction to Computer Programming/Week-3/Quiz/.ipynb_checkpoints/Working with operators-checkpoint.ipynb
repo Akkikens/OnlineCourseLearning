{
 "cells": [
  {
   "cell_type": "markdown",
   "metadata": {},
   "source": [
    "#### 1. What does the variable a equal at the end of this code snippet?\n",
    "> var a = 10+15;"
   ]
  },
  {
   "cell_type": "markdown",
   "metadata": {},
   "source": [
    "##### Ans: 25"
   ]
  },
  {
   "cell_type": "markdown",
   "metadata": {},
   "source": [
    "#### 2. What does the variable a equal at the end of this code snippet?\n",
    "> var a = 18/3;"
   ]
  },
  {
   "cell_type": "markdown",
   "metadata": {},
   "source": [
    "##### Ans: 6"
   ]
  },
  {
   "cell_type": "markdown",
   "metadata": {},
   "source": [
    "#### 3. What does the variable a equal at the end of this code snippet?\n",
    "> var a = 10*10+1*3;"
   ]
  },
  {
   "cell_type": "markdown",
   "metadata": {},
   "source": [
    "##### Ans: 103"
   ]
  },
  {
   "cell_type": "markdown",
   "metadata": {},
   "source": [
    "#### 4. What does the variable a equal at the end of this code snippet?\n",
    "> var a = 10+100/(5+5);"
   ]
  },
  {
   "cell_type": "markdown",
   "metadata": {},
   "source": [
    "##### Ans: 20"
   ]
  },
  {
   "cell_type": "markdown",
   "metadata": {},
   "source": [
    "#### 5. What does the variable a equal at the end of this code snippet?\n",
    "> var b = 20;\n",
    "> var a = b*20+20/5;"
   ]
  },
  {
   "cell_type": "markdown",
   "metadata": {},
   "source": [
    "##### Ans: 404"
   ]
  },
  {
   "cell_type": "markdown",
   "metadata": {},
   "source": [
    "#### 6. What does the variable a equal at the end of this code snippet?\n",
    "> var b = -20;\n",
    "> var a = 20-b;"
   ]
  },
  {
   "cell_type": "markdown",
   "metadata": {},
   "source": [
    "##### Ans: 40"
   ]
  },
  {
   "cell_type": "markdown",
   "metadata": {},
   "source": [
    "#### 7. What does the variable a equal at the end of this code snippet?\n",
    "> var a = 3;\n",
    "> a = a+5*2"
   ]
  },
  {
   "cell_type": "markdown",
   "metadata": {},
   "source": [
    "##### Ans: 13"
   ]
  },
  {
   "cell_type": "markdown",
   "metadata": {},
   "source": [
    "#### 8. Look at the following code carefully. How is the ellipse animated across the canvas?"
   ]
  },
  {
   "cell_type": "raw",
   "metadata": {},
   "source": [
    "var a = 0;\n",
    "\n",
    "function setup()\n",
    "{\n",
    "\tcreateCanvas(500, 500);\n",
    "}\n",
    "\n",
    "function draw()\n",
    "{\n",
    "\tbackground(200);\n",
    "\tfill(255, 0, 255);\n",
    "\tellipse(a, a, 100, 100);\n",
    "\ta += 1;\n",
    "\n",
    "}"
   ]
  },
  {
   "cell_type": "markdown",
   "metadata": {},
   "source": [
    "##### Ans: Moves the ellipse from the top left to the bottom right corner "
   ]
  }
 ],
 "metadata": {
  "kernelspec": {
   "display_name": "Python 3",
   "language": "python",
   "name": "python3"
  },
  "language_info": {
   "codemirror_mode": {
    "name": "ipython",
    "version": 3
   },
   "file_extension": ".py",
   "mimetype": "text/x-python",
   "name": "python",
   "nbconvert_exporter": "python",
   "pygments_lexer": "ipython3",
   "version": "3.6.4"
  }
 },
 "nbformat": 4,
 "nbformat_minor": 2
}
