{
 "cells": [
  {
   "cell_type": "markdown",
   "metadata": {},
   "source": [
    "#### 1. Which of the following variables represents the mouse's Y coordinate?"
   ]
  },
  {
   "cell_type": "markdown",
   "metadata": {},
   "source": [
    "##### Ans: mouseY"
   ]
  },
  {
   "cell_type": "markdown",
   "metadata": {},
   "source": [
    "#### 2. Which of the following statements best represents what a variable is?"
   ]
  },
  {
   "cell_type": "markdown",
   "metadata": {},
   "source": [
    "##### Ans: A variable is a placeholder for a value you can use in your code."
   ]
  },
  {
   "cell_type": "markdown",
   "metadata": {},
   "source": [
    "#### 3. Study the following code carefully. What is visible on the canvas when the program executes?"
   ]
  },
  {
   "cell_type": "raw",
   "metadata": {},
   "source": [
    "function setup()\n",
    "{\n",
    "\tcreateCanvas(500, 500);\n",
    "}\n",
    "\n",
    "function draw()\n",
    "{\n",
    "\tfill(0, 0, 220);\n",
    "\trect(100, 100, 300, 300);\n",
    "\tbackground(0, 0, 0);\n",
    "}"
   ]
  },
  {
   "cell_type": "markdown",
   "metadata": {},
   "source": [
    "##### Ans: a black background"
   ]
  },
  {
   "cell_type": "markdown",
   "metadata": {},
   "source": [
    "#### 4. What is displayed on the screen when the following code is executed?"
   ]
  },
  {
   "cell_type": "raw",
   "metadata": {},
   "source": [
    "function setup()\n",
    "{\n",
    "\tcreateCanvas(500, 500);\n",
    "}\n",
    "\n",
    "function draw()\n",
    "{\n",
    "\tbackground(0, 0, 0);\n",
    "\tfill(220, 0, 220);\n",
    "\tnoStroke();\n",
    "\trect(0, 0, width, height);\n",
    "\n",
    "}"
   ]
  },
  {
   "cell_type": "markdown",
   "metadata": {},
   "source": [
    "##### Ans: a purple square filling the canvas"
   ]
  },
  {
   "cell_type": "markdown",
   "metadata": {},
   "source": [
    "#### 5. What does the following code draw to the screen?"
   ]
  },
  {
   "cell_type": "raw",
   "metadata": {},
   "source": [
    "function setup()\n",
    "{\n",
    "\tcreateCanvas(500, 500);\n",
    "}\n",
    "\n",
    "function draw()\n",
    "{\n",
    "\tbackground(0, 0, 0);\n",
    "\tnoStroke();\n",
    "\tfill(220, 0, 220);\n",
    "\trect(0, 0, width / 2, height / 2);\n",
    "\n",
    "}"
   ]
  },
  {
   "cell_type": "markdown",
   "metadata": {},
   "source": [
    "##### Ans: a purple square in the top left corner of the canvas with a black background"
   ]
  },
  {
   "cell_type": "markdown",
   "metadata": {},
   "source": [
    "#### 6. What does the following code draw to the screen?"
   ]
  },
  {
   "cell_type": "raw",
   "metadata": {},
   "source": [
    "function setup()\n",
    "{\n",
    "\tcreateCanvas(500, 500);\n",
    "}\n",
    "\n",
    "function draw()\n",
    "{\n",
    "\tbackground(0, 0, 0);\n",
    "\tnoStroke();\n",
    "\tfill(220, 0, 220);\n",
    "\trect(0, 0, mouseX, mouseX);\n",
    "\n",
    "}"
   ]
  },
  {
   "cell_type": "markdown",
   "metadata": {},
   "source": [
    "##### Ans: a purple square that increases and deceases in size as the user moves the mouse across the screen"
   ]
  },
  {
   "cell_type": "markdown",
   "metadata": {},
   "source": [
    "#### 7. What value is stored in mouseX?"
   ]
  },
  {
   "cell_type": "markdown",
   "metadata": {},
   "source": [
    "##### Ans: a number that represents the mouse's location down the screen"
   ]
  },
  {
   "cell_type": "markdown",
   "metadata": {},
   "source": [
    "#### 8. When is the keyPressed() function called?"
   ]
  },
  {
   "cell_type": "markdown",
   "metadata": {},
   "source": [
    "##### Ans: after a key has been depressed"
   ]
  },
  {
   "cell_type": "markdown",
   "metadata": {},
   "source": [
    "#### 9. When is the mousePressed() function called?\n",
    "\n",
    "#### Hint: You may want to read the p5.js documentation."
   ]
  },
  {
   "cell_type": "markdown",
   "metadata": {},
   "source": [
    "##### Ans: when either mouse button has been pressed"
   ]
  },
  {
   "cell_type": "markdown",
   "metadata": {},
   "source": [
    "#### 10. What colour is the ellipse drawn in the following code after the mouse has been pressed and released?"
   ]
  },
  {
   "cell_type": "raw",
   "metadata": {},
   "source": [
    "function setup()\n",
    "{\n",
    "\tcreateCanvas(500, 500);\n",
    "}\n",
    "\n",
    "function draw()\n",
    "{\n",
    "\tfill(255, 0, 0);\n",
    "\trect(100, 100, 300, 300);\n",
    "\n",
    "}\n",
    "\n",
    "function mouseReleased()\n",
    "{\n",
    "\tfill(0, 0, 255);\n",
    "}"
   ]
  },
  {
   "cell_type": "markdown",
   "metadata": {},
   "source": [
    "##### Ans: red"
   ]
  }
 ],
 "metadata": {
  "kernelspec": {
   "display_name": "Python 3",
   "language": "python",
   "name": "python3"
  },
  "language_info": {
   "codemirror_mode": {
    "name": "ipython",
    "version": 3
   },
   "file_extension": ".py",
   "mimetype": "text/x-python",
   "name": "python",
   "nbconvert_exporter": "python",
   "pygments_lexer": "ipython3",
   "version": "3.6.4"
  }
 },
 "nbformat": 4,
 "nbformat_minor": 2
}
