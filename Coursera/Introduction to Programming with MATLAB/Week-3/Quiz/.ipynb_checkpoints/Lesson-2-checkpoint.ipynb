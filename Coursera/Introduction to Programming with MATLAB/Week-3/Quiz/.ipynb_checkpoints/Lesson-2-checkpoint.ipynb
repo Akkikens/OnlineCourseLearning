{
 "cells": [
  {
   "cell_type": "markdown",
   "metadata": {},
   "source": [
    "#### 1. The value of a after this command: a = [1 2 3; 4 5 6; 7 8 9] * [0 1 0]’;?"
   ]
  },
  {
   "cell_type": "raw",
   "metadata": {},
   "source": [
    "clear all;\n",
    "clc;\n",
    "\n",
    "a = [1 2 3; 4 5 6; 7 8 9];\n",
    "b = [0 1 0]';\n",
    "c = a * b;\n",
    "\n",
    "fprintf('The Output is:\\n');\n",
    "fprintf('\\t%d\\n', c);"
   ]
  },
  {
   "cell_type": "markdown",
   "metadata": {},
   "source": [
    "##### Ans: <a href=\"Answer1.m\">[2 ; 5 ; 8]</a> "
   ]
  },
  {
   "cell_type": "markdown",
   "metadata": {},
   "source": [
    "#### 2. What will be the value of s after this command: A = [1:4; 2:2:9; 0 0 2 -1]; s = A(end,3);"
   ]
  },
  {
   "cell_type": "raw",
   "metadata": {},
   "source": [
    "clear all;\n",
    "clc;\n",
    "\n",
    "a = [1:4; 2:2:9; 0 0 2 -1];\n",
    "\n",
    "s = a(end,3);\n",
    "\n",
    "fprintf('Value of S: %d\\n', s);"
   ]
  },
  {
   "cell_type": "markdown",
   "metadata": {},
   "source": [
    "##### Ans: <a href=\"Answer2.m\">2</a> "
   ]
  },
  {
   "cell_type": "markdown",
   "metadata": {},
   "source": [
    "#### 3. Which of the following is a not valid variable name?"
   ]
  },
  {
   "cell_type": "markdown",
   "metadata": {},
   "source": [
    "##### Ans: HateThisHomeworkSoMuch, x5x2x3, X_Y"
   ]
  },
  {
   "cell_type": "markdown",
   "metadata": {},
   "source": [
    "#### 4. After this command: v = -55:5:55; how many elements will v have?"
   ]
  },
  {
   "cell_type": "raw",
   "metadata": {},
   "source": [
    "clear all;\n",
    "clc;\n",
    "\n",
    "v = -55:5:55;\n",
    "fprintf('Size: %d\\n', length(v));"
   ]
  },
  {
   "cell_type": "markdown",
   "metadata": {},
   "source": [
    "##### Ans: <a href=\"Answer4.m\">23</a> "
   ]
  },
  {
   "cell_type": "markdown",
   "metadata": {},
   "source": [
    "#### 5. In MATLAB, operators work on:"
   ]
  },
  {
   "cell_type": "markdown",
   "metadata": {},
   "source": [
    "##### Ans: operands"
   ]
  },
  {
   "cell_type": "markdown",
   "metadata": {},
   "source": [
    "#### 6. Matrix multiplication requires that its two operands"
   ]
  },
  {
   "cell_type": "markdown",
   "metadata": {},
   "source": [
    "##### Ans: have the same inner dimensions"
   ]
  },
  {
   "cell_type": "markdown",
   "metadata": {},
   "source": [
    "#### 7. The variable t after these commands v = 1:2:22; t = v(end) will be: "
   ]
  },
  {
   "cell_type": "raw",
   "metadata": {},
   "source": [
    "clear all;\n",
    "clc;\n",
    "\n",
    "v = 1:2:22; \n",
    "t = v(end);\n",
    "\n",
    "fprintf('T: %d\\n', t);"
   ]
  },
  {
   "cell_type": "markdown",
   "metadata": {},
   "source": [
    "##### Ans: <a href=\"Answer7.m\">21</a>"
   ]
  },
  {
   "cell_type": "markdown",
   "metadata": {},
   "source": [
    "#### 8. The variable t after these commands t = (2:2:8) ^ 2 will be"
   ]
  },
  {
   "cell_type": "raw",
   "metadata": {},
   "source": [
    "clear all;\n",
    "clc;\n",
    "\n",
    "t = (2:2:8) ^ 2;\n",
    "\n",
    "fprintf(\"T: %g\\n\", t);"
   ]
  },
  {
   "cell_type": "markdown",
   "metadata": {},
   "source": [
    "##### Ans: <a href=\"Answer8.m\">None of the above. MATLAB will print an error message.</a>"
   ]
  },
  {
   "cell_type": "markdown",
   "metadata": {},
   "source": [
    "#### 9. The value of p after this command: A = [1:3; 4:6]; p = size(A);"
   ]
  },
  {
   "cell_type": "raw",
   "metadata": {},
   "source": [
    "clear all;\n",
    "clc;\n",
    "\n",
    "A = [1:3; 4:6]; \n",
    "p = size(A);\n",
    "\n",
    "fprintf(\"Size of A: %d\\n\", p);"
   ]
  },
  {
   "cell_type": "markdown",
   "metadata": {},
   "source": [
    "##### Ans: will be a 2-element row vector"
   ]
  },
  {
   "cell_type": "markdown",
   "metadata": {},
   "source": [
    "#### 10. Array multiplication requires that the two operands"
   ]
  },
  {
   "cell_type": "markdown",
   "metadata": {},
   "source": [
    "##### Ans: have the same dimensions"
   ]
  }
 ],
 "metadata": {
  "kernelspec": {
   "display_name": "Python 3",
   "language": "python",
   "name": "python3"
  },
  "language_info": {
   "codemirror_mode": {
    "name": "ipython",
    "version": 3
   },
   "file_extension": ".py",
   "mimetype": "text/x-python",
   "name": "python",
   "nbconvert_exporter": "python",
   "pygments_lexer": "ipython3",
   "version": "3.6.4"
  }
 },
 "nbformat": 4,
 "nbformat_minor": 2
}
