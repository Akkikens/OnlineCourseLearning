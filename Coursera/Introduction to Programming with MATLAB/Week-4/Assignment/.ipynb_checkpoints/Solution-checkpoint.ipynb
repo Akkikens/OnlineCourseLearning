{
 "cells": [
  {
   "cell_type": "markdown",
   "metadata": {},
   "source": [
    "##### Problem circle.m:"
   ]
  },
  {
   "cell_type": "raw",
   "metadata": {},
   "source": [
    "function [area, cf] = circle(r)\n",
    "    area = r.^2 * pi;\n",
    "    cf = 2 * r * pi;\n",
    "end"
   ]
  },
  {
   "cell_type": "markdown",
   "metadata": {},
   "source": [
    "##### Problem even_index.m:"
   ]
  },
  {
   "cell_type": "raw",
   "metadata": {},
   "source": [
    "function E = even_index(A)\n",
    "    E = A(2:2:end,2:2:end);\n",
    "end"
   ]
  },
  {
   "cell_type": "markdown",
   "metadata": {},
   "source": [
    "##### Problem flip_it.m:"
   ]
  },
  {
   "cell_type": "raw",
   "metadata": {},
   "source": [
    "function v = flip_it(v)\n",
    "    v = v(end:-1:1);\n",
    "end"
   ]
  },
  {
   "cell_type": "markdown",
   "metadata": {},
   "source": [
    "##### Problem top_right.m:"
   ]
  },
  {
   "cell_type": "raw",
   "metadata": {},
   "source": [
    "function A = top_right(A,n)\n",
    "    A = A(1:n,end-n+1:end);\n",
    "end"
   ]
  },
  {
   "cell_type": "markdown",
   "metadata": {},
   "source": [
    "##### Problem peri_sum.m"
   ]
  },
  {
   "cell_type": "raw",
   "metadata": {},
   "source": [
    "function s = peri_sum(A)\n",
    "    B = A(2:end-1,2:end-1);\n",
    "    s = sum(A(:)) - sum(B(:));\n",
    "end"
   ]
  },
  {
   "cell_type": "markdown",
   "metadata": {},
   "source": [
    "##### Or"
   ]
  },
  {
   "cell_type": "raw",
   "metadata": {},
   "source": [
    "function s = peri_sum(A)\n",
    "    s = sum(A(1,:)) + sum(A(end,:)) + sum(A(2:end-1,1)) + sum(A(2:end-1,end));\n",
    "end"
   ]
  },
  {
   "cell_type": "markdown",
   "metadata": {},
   "source": [
    "##### Problem light_speed.m:"
   ]
  },
  {
   "cell_type": "raw",
   "metadata": {},
   "source": [
    "function [t m] = light_speed(km)\n",
    "    t = km / 3e5 / 60;\n",
    "    m = km / 1.609;\n",
    "end"
   ]
  },
  {
   "cell_type": "markdown",
   "metadata": {},
   "source": [
    "##### Problem accelerate.m:"
   ]
  },
  {
   "cell_type": "raw",
   "metadata": {},
   "source": [
    "function a = accelerate(F1,F2,m)\n",
    "    F = F1 + F2;\n",
    "    f = sqrt(sum(F.^2));\n",
    "    a = f/m;\n",
    "end"
   ]
  },
  {
   "cell_type": "markdown",
   "metadata": {},
   "source": [
    "##### Problem income.m:"
   ]
  },
  {
   "cell_type": "raw",
   "metadata": {},
   "source": [
    "function s = income(rate,price)\n",
    "    s = 6 * 2 * 8 * rate * price';\n",
    "end"
   ]
  },
  {
   "cell_type": "markdown",
   "metadata": {},
   "source": [
    "##### Or"
   ]
  },
  {
   "cell_type": "raw",
   "metadata": {},
   "source": [
    "function s = income(rate,price)\n",
    "    s = 6 * 2 * 8 * sum(rate .* price);\n",
    "end"
   ]
  }
 ],
 "metadata": {
  "kernelspec": {
   "display_name": "Python 3",
   "language": "python",
   "name": "python3"
  },
  "language_info": {
   "codemirror_mode": {
    "name": "ipython",
    "version": 3
   },
   "file_extension": ".py",
   "mimetype": "text/x-python",
   "name": "python",
   "nbconvert_exporter": "python",
   "pygments_lexer": "ipython3",
   "version": "3.6.4"
  }
 },
 "nbformat": 4,
 "nbformat_minor": 2
}
