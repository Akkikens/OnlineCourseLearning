{
 "cells": [
  {
   "cell_type": "markdown",
   "metadata": {},
   "source": [
    "##### Problem intquad.m:"
   ]
  },
  {
   "cell_type": "raw",
   "metadata": {},
   "source": [
    "function Q = intquad(n,m)\n",
    "    Q = zeros(n,m);\n",
    "    Q = [Q Q+1; Q+2 Q+3];\n",
    "end"
   ]
  },
  {
   "cell_type": "markdown",
   "metadata": {},
   "source": [
    "##### Problem sindeg:"
   ]
  },
  {
   "cell_type": "raw",
   "metadata": {},
   "source": [
    "function [s avg] = sindeg(d)\n",
    "    s = sin(d*pi/180);\n",
    "    avg = mean(s(:));\n",
    "end"
   ]
  },
  {
   "cell_type": "markdown",
   "metadata": {},
   "source": [
    "##### Problem simple_stats.m:"
   ]
  },
  {
   "cell_type": "raw",
   "metadata": {},
   "source": [
    "function S = simple_stats(N)\n",
    "    S = [mean(N,2) median(N,2) min(N,[],2) max(N,[],2)];\n",
    "end"
   ]
  },
  {
   "cell_type": "markdown",
   "metadata": {},
   "source": [
    "##### Or"
   ]
  },
  {
   "cell_type": "raw",
   "metadata": {},
   "source": [
    "function S = simple_stats(N)\n",
    "    S = [mean(N'); median(N'); min(N'); max(N')]';\n",
    "end"
   ]
  },
  {
   "cell_type": "markdown",
   "metadata": {},
   "source": [
    "#####  Problem odd_rms.m:"
   ]
  },
  {
   "cell_type": "raw",
   "metadata": {},
   "source": [
    "function or = odd_rms(nn)\n",
    "    or = sqrt(mean((1:2:2*nn).^2));\n",
    "end"
   ]
  },
  {
   "cell_type": "markdown",
   "metadata": {},
   "source": [
    "#####  Problem fence.m:"
   ]
  },
  {
   "cell_type": "raw",
   "metadata": {},
   "source": [
    "function [nums , nump] = fence(lng,seg)\n",
    "    nums = ceil(lng/seg);\n",
    "    nump = nums+1;\n",
    "end"
   ]
  },
  {
   "cell_type": "markdown",
   "metadata": {},
   "source": [
    "#####  Problem zero_stat.m:"
   ]
  },
  {
   "cell_type": "raw",
   "metadata": {},
   "source": [
    "function pct = zero_stat(A)\n",
    "    pct = 100 * (numel(A) - sum(A(:))) / numel(A);\n",
    "end"
   ]
  },
  {
   "cell_type": "markdown",
   "metadata": {},
   "source": [
    "##### Problem reverse_diag.m:"
   ]
  },
  {
   "cell_type": "raw",
   "metadata": {},
   "source": [
    "function D = reverse_diag(n)\n",
    "    D = zeros(n);\n",
    "    D(n:max([1,n-1]):max([n,n^2-1])) = 1;\n",
    "end"
   ]
  },
  {
   "cell_type": "markdown",
   "metadata": {},
   "source": [
    "##### Or"
   ]
  },
  {
   "cell_type": "raw",
   "metadata": {},
   "source": [
    "function D = reverse_diag(n)\n",
    "    D = zeros(n);\n",
    "    D(1:n+1:end) = 1;\n",
    "    D = flip(D);\n",
    "end"
   ]
  },
  {
   "cell_type": "markdown",
   "metadata": {},
   "source": [
    "##### Problem sum3and5muls:"
   ]
  },
  {
   "cell_type": "raw",
   "metadata": {},
   "source": [
    "function s = sum3and5muls(n)\n",
    "    s = sum(3:3:n) + sum(5:5:n) - sum(15:15:n);\n",
    "end"
   ]
  }
 ],
 "metadata": {
  "kernelspec": {
   "display_name": "Python 3",
   "language": "python",
   "name": "python3"
  },
  "language_info": {
   "codemirror_mode": {
    "name": "ipython",
    "version": 3
   },
   "file_extension": ".py",
   "mimetype": "text/x-python",
   "name": "python",
   "nbconvert_exporter": "python",
   "pygments_lexer": "ipython3",
   "version": "3.6.4"
  }
 },
 "nbformat": 4,
 "nbformat_minor": 2
}
