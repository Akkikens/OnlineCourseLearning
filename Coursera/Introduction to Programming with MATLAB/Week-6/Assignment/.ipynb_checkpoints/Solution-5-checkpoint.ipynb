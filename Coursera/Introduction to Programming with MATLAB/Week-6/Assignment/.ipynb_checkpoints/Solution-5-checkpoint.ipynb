{
 "cells": [
  {
   "cell_type": "markdown",
   "metadata": {},
   "source": [
    "#### Problem eligible.m:"
   ]
  },
  {
   "cell_type": "raw",
   "metadata": {},
   "source": [
    "function ok = eligible(v,q)\n",
    "    ok = mean([v q]) >= 92 && v > 88 && q > 88;\n",
    "end"
   ]
  },
  {
   "cell_type": "markdown",
   "metadata": {},
   "source": [
    "####  Problem fare.m:"
   ]
  },
  {
   "cell_type": "raw",
   "metadata": {},
   "source": [
    "function cost = fare(miles,age)\n",
    "    cost = 2;\n",
    "    miles = round(miles);\n",
    "    if miles <= 10\n",
    "        cost = cost + max([0 (miles-1)]) * 0.25;\n",
    "    else\n",
    "        cost = cost + 9 * 0.25 + (miles-10) * 0.1;\n",
    "    end\n",
    "    if age <= 18 || age >= 60\n",
    "        cost = cost * 0.8;\n",
    "    end\n",
    "end"
   ]
  },
  {
   "cell_type": "markdown",
   "metadata": {},
   "source": [
    "####  Problem sort3.m:"
   ]
  },
  {
   "cell_type": "raw",
   "metadata": {},
   "source": [
    "function [a b c] = sort3(v)\n",
    "    if v(2) < v(1)\n",
    "        v = [v(2) v(1) v(3)];\n",
    "    end\n",
    "    if v(3) < v(2)\n",
    "        v = [v(1) v(3) v(2)];   % the last element is the max now\n",
    "    end\n",
    "    if v(2) < v(1)\n",
    "        v = [v(2) v(1) v(3)];   % the first two are in order as well\n",
    "    end\n",
    "    a = v(1);\n",
    "    b = v(2);\n",
    "    c = v(3);\n",
    "end"
   ]
  },
  {
   "cell_type": "markdown",
   "metadata": {},
   "source": [
    "####  Problem day_diff.m:"
   ]
  },
  {
   "cell_type": "raw",
   "metadata": {},
   "source": [
    "function diff = day_diff(m1,d1,m2,d2)\n",
    "    days = [31 28 31 30 31 30 31 31 30 31 30 31];\n",
    "    \n",
    "    diff = -1;\n",
    "    if     ~isscalar(m1) || m1 < 1 || m1 > 12       || m1 ~= floor(m1),  return;\n",
    "    elseif ~isscalar(m2) || m2 < 1 || m2 > 12       || m2 ~= floor(m2),  return;\n",
    "    elseif ~isscalar(d1) || d1 < 1 || d1 > days(m1) || d1 ~= floor(d1),  return;\n",
    "    elseif ~isscalar(d2) || d2 < 1 || d2 > days(m2) || d2 ~= floor(d2),  return;\n",
    "    end\n",
    "\n",
    "    if m2 < m1 || (m1 == m2 && d2 < d1)      % make sure m1/d1 is the earlier date\n",
    "        tmp = m1; m1 = m2; m2 = tmp;          \n",
    "        tmp = d1; d1 = d2; d2 = tmp;\n",
    "    end\n",
    "    diff = sum(days(m1:m2-1)) + d2 - d1;\n",
    "end"
   ]
  },
  {
   "cell_type": "markdown",
   "metadata": {},
   "source": [
    "####  Problem holiday.m:"
   ]
  },
  {
   "cell_type": "raw",
   "metadata": {},
   "source": [
    "function yes = holiday(month,day)\n",
    "    yes = ((month == 1  && day == 1) || (month == 7 && day == 4) || ...\n",
    "           (month == 12 && (day == 25 || day == 31)));\n",
    "end"
   ]
  },
  {
   "cell_type": "markdown",
   "metadata": {},
   "source": [
    "####  Problem poly_val.m:"
   ]
  },
  {
   "cell_type": "raw",
   "metadata": {},
   "source": [
    "function p = poly_val(c0,c,x)\n",
    "    c = c(:);           % make sure c and x are column vectors\n",
    "    x = x(:);\n",
    "    if isempty(c)\n",
    "        p = c0;\n",
    "    else\n",
    "        p = c0 + sum(c' .* x .^ (1:length(c)));\n",
    "    end\n",
    "end"
   ]
  },
  {
   "cell_type": "markdown",
   "metadata": {},
   "source": [
    "####  Problem exp_average.m:"
   ]
  },
  {
   "cell_type": "raw",
   "metadata": {},
   "source": [
    "function res = exp_average(x,b)\n",
    "    persistent avg;\n",
    "    persistent alpha;\n",
    "    if isempty(avg)\n",
    "        avg = x;\n",
    "        alpha = 0.1;\n",
    "    end\n",
    "    if nargin == 2\n",
    "        avg = x;\n",
    "        alpha = b;\n",
    "    end\n",
    "    avg = x * alpha + avg * (1-alpha);\n",
    "    res = avg;\n",
    "end"
   ]
  },
  {
   "cell_type": "markdown",
   "metadata": {},
   "source": [
    "####  Problem spherical_mirror_aberr.m:"
   ]
  },
  {
   "cell_type": "raw",
   "metadata": {},
   "source": [
    "function mbd = spherical_mirror_aberr(fn,D)\n",
    "    deltax = 1e-2;\n",
    "    x = 0:deltax:D/2;\n",
    "    f = fn * D;\n",
    "    theta = asin(x / 2 / f);\n",
    "    d = 2 * f * tan(2 * theta) .* (1 ./ cos(theta) - 1);\n",
    "    mbd = 8 * deltax / (D^2) * sum(x .* d); \n",
    "end"
   ]
  }
 ],
 "metadata": {
  "kernelspec": {
   "display_name": "Python 3",
   "language": "python",
   "name": "python3"
  },
  "language_info": {
   "codemirror_mode": {
    "name": "ipython",
    "version": 3
   },
   "file_extension": ".py",
   "mimetype": "text/x-python",
   "name": "python",
   "nbconvert_exporter": "python",
   "pygments_lexer": "ipython3",
   "version": "3.6.4"
  }
 },
 "nbformat": 4,
 "nbformat_minor": 2
}
