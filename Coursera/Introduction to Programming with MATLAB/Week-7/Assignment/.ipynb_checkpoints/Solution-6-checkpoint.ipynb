{
 "cells": [
  {
   "cell_type": "markdown",
   "metadata": {},
   "source": [
    "##### problem move_me.m:"
   ]
  },
  {
   "cell_type": "raw",
   "metadata": {},
   "source": [
    "function w = move_me(v,a)\n",
    "    if nargin<2, \n",
    "        a = 0; \n",
    "    end\n",
    "    w = [v(v ~= a) v(v == a)];\n",
    "end"
   ]
  },
  {
   "cell_type": "markdown",
   "metadata": {},
   "source": [
    "##### Or"
   ]
  },
  {
   "cell_type": "raw",
   "metadata": {},
   "source": [
    "function w = move_me(v,a)\n",
    "    if nargin < 2\n",
    "        a = 0;\n",
    "    end\n",
    "    w = [];\n",
    "    vv = [];\n",
    "    for ii = 1:length(v)\n",
    "        if v(ii) ~= a\n",
    "            w(end+1) = v(ii);\n",
    "        else\n",
    "            vv(end+1) = a;\n",
    "        end\n",
    "    end\n",
    "    w = [w vv];\n",
    "end"
   ]
  },
  {
   "cell_type": "markdown",
   "metadata": {},
   "source": [
    "#####  problem half_sum.m:"
   ]
  },
  {
   "cell_type": "raw",
   "metadata": {},
   "source": [
    "function h = halfsum(A)\n",
    "    % there is a built-in MATLAB function for almost anything...\n",
    "\n",
    "    h = sum(sum(triu(flipud(A))))\n",
    "end"
   ]
  },
  {
   "cell_type": "markdown",
   "metadata": {},
   "source": [
    "##### Or"
   ]
  },
  {
   "cell_type": "raw",
   "metadata": {},
   "source": [
    "function s = halfsum(A)\n",
    "    [r c] = size(A);\n",
    "    for ii = 1:r\n",
    "        for jj = 1:c\n",
    "            if ii < r-jj+1\n",
    "                A(ii,jj) = 0;\n",
    "            end\n",
    "        end\n",
    "    end\n",
    "    s = sum(A(:));\n",
    "end"
   ]
  },
  {
   "cell_type": "markdown",
   "metadata": {},
   "source": [
    "#####  problem small_elements.m:"
   ]
  },
  {
   "cell_type": "raw",
   "metadata": {},
   "source": [
    "function I = small_elements(X)\n",
    "%   The matrix multiplication of a column vector of the row numbers and \n",
    "%   a row vector of the column numbers gives the indices of the matrix. \n",
    "    [r,c] = size(X);\n",
    "    [x,y] = find(X < ((1:r)' * (1:c)));\n",
    "    I = [x(:), y(:)];\n",
    "end"
   ]
  },
  {
   "cell_type": "markdown",
   "metadata": {},
   "source": [
    "##### Or"
   ]
  },
  {
   "cell_type": "raw",
   "metadata": {},
   "source": [
    "function found = small_elements(A)\n",
    "    [row col] = size(A);\n",
    "    found = [];\n",
    "    for jj = 1:col\n",
    "        for ii = 1:row\n",
    "            if A(ii,jj) < ii * jj\n",
    "                found = [found; ii jj];\n",
    "            end\n",
    "        end\n",
    "    end\n",
    "end"
   ]
  },
  {
   "cell_type": "markdown",
   "metadata": {},
   "source": [
    "#####  problem approximate_e.m:"
   ]
  },
  {
   "cell_type": "raw",
   "metadata": {},
   "source": [
    "function [a,k] = approximate_e (delta)\n",
    "    e = exp(1);                      % reference value for e\n",
    "    f = 1;                           % first factorial term  \n",
    "    a = 1;                           % first series term\n",
    "    k = 0;                           % term subscript\n",
    "    while abs(a-e)>delta\n",
    "        k = k+1;    \n",
    "        f = f*k;\n",
    "        a = a+1/f;\n",
    "    end\n",
    "end"
   ]
  },
  {
   "cell_type": "markdown",
   "metadata": {},
   "source": [
    "#####  problem spiral_diag_sum.m:"
   ]
  },
  {
   "cell_type": "raw",
   "metadata": {},
   "source": [
    "function s = spiral_diag_sum(n)\n",
    "%   The last element is always n square and it is in the corner.\n",
    "%   A simple arithmetic expression gives the sum of the four corners.\n",
    "%   Do this for a series of odd numbers from 3 to n.\n",
    "%   Add 1 for the starting value in the center\n",
    "\n",
    "    v = 3:2:n;\n",
    "    s = 1 + sum(4*v.^2 - 6*(v-1)); \n",
    "end"
   ]
  },
  {
   "cell_type": "markdown",
   "metadata": {},
   "source": [
    "#####  problem triangle_wave.m:"
   ]
  },
  {
   "cell_type": "raw",
   "metadata": {},
   "source": [
    "function tri = triangle_wave(n)    \n",
    "    t = 0:pi/250:4*pi;\n",
    "    tri = zeros(1,length(t));\n",
    "    sign = 1;\n",
    "    for ii = 1:2:2*n+1\n",
    "        tri = tri + sign * sin(ii*t)/ii^2;\n",
    "        sign = -sign;\n",
    "    end\n",
    "end"
   ]
  },
  {
   "cell_type": "markdown",
   "metadata": {},
   "source": [
    "#####  problem max_product.m:"
   ]
  },
  {
   "cell_type": "raw",
   "metadata": {},
   "source": [
    "function [mx ind] = max_product(v,n)\n",
    "    ind = -1;\n",
    "    if isempty(v) || n > length(v)\n",
    "        mx = 0;\n",
    "        return;\n",
    "    end\n",
    "    mx = -Inf;\n",
    "    for ii = 1:length(v)-n+1\n",
    "        mul = prod(v(ii:ii+n-1));\n",
    "        if mul > mx\n",
    "            mx = mul;\n",
    "            ind = ii;\n",
    "        end\n",
    "    end\n",
    "end"
   ]
  },
  {
   "cell_type": "markdown",
   "metadata": {},
   "source": [
    "##### Or"
   ]
  },
  {
   "cell_type": "raw",
   "metadata": {},
   "source": [
    "function [lp,li] = max_product (V,n)\n",
    "    e = length(V);\n",
    "    if n>e\n",
    "        lp = 0; \n",
    "        li = -1;\n",
    "    else\n",
    "        P = -Inf(1,e-n+1);            % preallocate product vector\n",
    "        for i = 1:e-n+1                \n",
    "            P(i) = prod(V(i:i+n-1));  % populate product vector\n",
    "        end\n",
    "        [lp,li] = max(P);             % return maximum product and its location\n",
    "    end\n",
    "end"
   ]
  },
  {
   "cell_type": "markdown",
   "metadata": {},
   "source": [
    "#####  problem pendulum.m:"
   ]
  },
  {
   "cell_type": "raw",
   "metadata": {},
   "source": [
    "function T = pendulum(L,angle0)\n",
    "    T = 0;\n",
    "    if L > 0\n",
    "        dt = 1e-6;\n",
    "        g = 9.8;\n",
    "        angle = abs(angle0);\n",
    "        omega = 0;\n",
    "        T = 0;\n",
    "        while angle > 0\n",
    "           a = g*sin(angle)/L;\n",
    "           omega = omega + dt * a;\n",
    "           angle = angle - dt * omega;\n",
    "           T = T + dt;\n",
    "        end\n",
    "        T = T * 4;\n",
    "    end\n",
    "end"
   ]
  }
 ],
 "metadata": {
  "kernelspec": {
   "display_name": "Python 3",
   "language": "python",
   "name": "python3"
  },
  "language_info": {
   "codemirror_mode": {
    "name": "ipython",
    "version": 3
   },
   "file_extension": ".py",
   "mimetype": "text/x-python",
   "name": "python",
   "nbconvert_exporter": "python",
   "pygments_lexer": "ipython3",
   "version": "3.6.4"
  }
 },
 "nbformat": 4,
 "nbformat_minor": 2
}
