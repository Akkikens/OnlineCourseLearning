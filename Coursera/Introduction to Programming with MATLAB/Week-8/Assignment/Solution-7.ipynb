{
 "cells": [
  {
   "cell_type": "markdown",
   "metadata": {},
   "source": [
    "##### problem integerize.m:"
   ]
  },
  {
   "cell_type": "raw",
   "metadata": {},
   "source": [
    "function cl = integerize(A)\n",
    "    cls = {'int8'; 'int16'; 'int32'; 'int64'};\n",
    "    cl = 'NONE';\n",
    "    mx = max(A(:));\n",
    "    mn = min(A(:));\n",
    "    for ii = 1:length(cls)\n",
    "        if intmax(cls{ii}) >= mx && intmin(cls{ii}) <= mn\n",
    "            cl = cls{ii};\n",
    "            break;\n",
    "        end\n",
    "    end\n",
    "end"
   ]
  },
  {
   "cell_type": "markdown",
   "metadata": {},
   "source": [
    "##### Or"
   ]
  },
  {
   "cell_type": "raw",
   "metadata": {},
   "source": [
    "function Name = integerize (A)    DataType = {'int8', 'int16', 'int32', 'int64', 'NONE'};\n",
    "    Limit    = [2^7, 2^15, 2^31, 2^63, realmax]; \n",
    "    A(A<0)   = A(A<0) + 1;                             % must do this for negatives!!!!! \n",
    "    Name     = DataType{max(abs(A(:))) < Limit};\n",
    "end"
   ]
  },
  {
   "cell_type": "markdown",
   "metadata": {},
   "source": [
    "#####  problem year2016.m:"
   ]
  },
  {
   "cell_type": "raw",
   "metadata": {},
   "source": [
    "function month = year2016(m)\n",
    "    if ~isscalar(m) || m < 1 || m > 12 || m ~= floor(m)\n",
    "        month = [];\n",
    "        return;\n",
    "    end\n",
    "    days = ([31 29 31 30 31 30 31 31 30 31 30 31]);\n",
    "    ms = {'January'; 'February'; 'March'; 'April'; 'May'; 'June'; ...\n",
    "           'July'; 'August'; 'September'; 'October'; 'November'; 'December'}; \n",
    "    ds = {'Sun'; 'Mon'; 'Tue'; 'Wed'; 'Thu'; 'Fri'; 'Sat'};\n",
    "\n",
    "    start = 4;  % Jan 1, 2016 was a Friday. US week starts on Sunday.\n",
    "                % We'll add ii and 1 below because rem(n,7) returns numbers\n",
    "                % 0-6 and we need indexes 1-7. \n",
    "    start = start + sum(days(1:m-1));\n",
    "    for ii = 1:days(m)\n",
    "        month(ii).month = ms{m};\n",
    "        month(ii).date = ii;\n",
    "        month(ii).day = ds{rem(start+ii,7)+1};\n",
    "    end\n",
    "end"
   ]
  },
  {
   "cell_type": "markdown",
   "metadata": {},
   "source": [
    "#####  problem palin_product.m:\n",
    "##### Naive implementation. Slow for many cases:"
   ]
  },
  {
   "cell_type": "raw",
   "metadata": {},
   "source": [
    "function n = palin_product(dig, lim)\n",
    "    n = 0;\n",
    "    for ii = 10^(dig-1):10^dig-1\n",
    "        for jj = 10^(dig-1):ii\n",
    "            p = ii*jj;\n",
    "            if p >= lim\n",
    "                continue;\n",
    "            elseif palindrome(p) && p > n\n",
    "                n = p;\n",
    "            end\n",
    "        end\n",
    "    end\n",
    "end\n",
    "function isp = palindrome(p)\n",
    "    txt = num2str(p);\n",
    "    isp = strcmp(txt,txt(end:-1:1));\n",
    "end"
   ]
  },
  {
   "cell_type": "markdown",
   "metadata": {},
   "source": [
    "##### Version optimized for speed. Most of the time, the inner loop ends early:"
   ]
  },
  {
   "cell_type": "raw",
   "metadata": {},
   "source": [
    "function n = palin_product(dig, lim)\n",
    "    n = 0;\n",
    "    for ii = 10^dig-1 : -1 : 10^(dig-1)                             % going from large to small\n",
    "        for jj = min(10^dig-1,floor((lim-1)/ii)) : -1 : 10^(dig-1)  % check numbers under lim\n",
    "            p = ii*jj;\n",
    "            if p < n                % gone under the current max\n",
    "                continue;           % no need to go further in the inner loop\n",
    "            elseif palindrome(p)\n",
    "                n = p;              % found a larger one\n",
    "                continue;           % no need to go further in the inner loop\n",
    "            end\n",
    "        end\n",
    "    end\n",
    "end\n",
    "\n",
    "function isp = palindrome(p)\n",
    "    txt = num2str(p);\n",
    "    isp = strcmp(txt,txt(end:-1:1));\n",
    "end"
   ]
  },
  {
   "cell_type": "markdown",
   "metadata": {},
   "source": [
    "##### Vectorized solution, but needs lots of memory:"
   ]
  },
  {
   "cell_type": "raw",
   "metadata": {},
   "source": [
    "function n = palin_product (dig,lim)\n",
    "\n",
    "% a is the smallest dig-digit number that can be formed. If the smallest possible\n",
    "% product (a^2) is smaller than the specified limit, we determine b, the largest\n",
    "% dig-digit number that can be formed. We then build the square outer product of a:b.\n",
    "% Logically indexing into to this matrix for elements less than lim creates a column\n",
    "% vector P of candidate products. We convert each of these to a string, reverse its\n",
    "% characters, and convert it back to a number, to form the column vector Q. Finally,\n",
    "% we return the maximum element in P which has the same value in both P and Q.\n",
    "\n",
    "    n = 0;\n",
    "    a = 10^(dig-1);\n",
    "    if lim>a^2\n",
    "        b = 10^dig - 1;\n",
    "        P = (a:b)' * (a:b);\n",
    "        P = P(P<lim);\n",
    "        Q = str2num(fliplr(num2str(P)));\n",
    "        n = max(P(P==Q));\n",
    "    end \n",
    "end"
   ]
  },
  {
   "cell_type": "markdown",
   "metadata": {},
   "source": [
    "#####  problem dial.m:\n",
    "#####  Traditional solution:"
   ]
  },
  {
   "cell_type": "raw",
   "metadata": {},
   "source": [
    "function num = dial(str)\n",
    "    num = uint64(0);\n",
    "    if length(str) > 16\n",
    "        return;\n",
    "    end\n",
    "    for ii = 1:length(str)\n",
    "        if str(ii) >= 'A' && str(ii) <= 'Z'\n",
    "            str(ii) = map(str(ii));\n",
    "        elseif ~(str(ii) >= '0' && str(ii) <= '9')\n",
    "            return;\n",
    "        end\n",
    "    end\n",
    "    num = uint64(str2num(str));\n",
    "end\n",
    "\n",
    "function ch = map(ch)\n",
    "    m = '22233344455566677778889999';\n",
    "    ch = m(ch - 'A' + 1);\n",
    "end"
   ]
  },
  {
   "cell_type": "markdown",
   "metadata": {},
   "source": [
    "##### Vectorized version:"
   ]
  },
  {
   "cell_type": "raw",
   "metadata": {},
   "source": [
    "function ph = dial(str)\n",
    "    code = '0123456789xxxxxxx22233344455566677778889999';  % x represents invalid character\n",
    "    ph = '0';\n",
    "    n = str-'0'+1;                                          % index into the vector code\n",
    "    if ~((sum(str(n <= 0)) + sum(n > length(code))) || ...  % checks for indexes out of range\n",
    "            sum(code(n) == 'x') || ...                      % checks for any x-s\n",
    "            length(str) > 16 )                              % checks too long input\n",
    "        ph = code(n);                                       % mapping with a single command\n",
    "    end\n",
    "    ph = uint64(str2num(ph));                               % convert string to number and uint64\n",
    "end"
   ]
  },
  {
   "cell_type": "markdown",
   "metadata": {},
   "source": [
    "###### Another vectorized version:"
   ]
  },
  {
   "cell_type": "raw",
   "metadata": {},
   "source": [
    "function n = dial (s)\n",
    "    if ~all(ismember(s,['0':'9','A':'Z'])) || length(s) > 16\n",
    "        n = uint64(0);\n",
    "    else\n",
    "        map = '22233344455566677778889999';\n",
    "        s(s>='A') = map(s(s>='A')-64);\n",
    "        n = uint64(str2double(s)) ;\n",
    "    end\n",
    "end"
   ]
  },
  {
   "cell_type": "markdown",
   "metadata": {},
   "source": [
    "######  problem logi_unpack.m:"
   ]
  },
  {
   "cell_type": "raw",
   "metadata": {},
   "source": [
    "function L = logiunpack(cv)\n",
    "    n = length(cv);\n",
    "    L = false(n);\n",
    "    for ii = 1:n\n",
    "        for jj = 1:length(cv{ii})\n",
    "            L(ii,cv{ii}(jj)) = true;\n",
    "        end\n",
    "    end\n",
    "end"
   ]
  },
  {
   "cell_type": "markdown",
   "metadata": {},
   "source": [
    "######  problem logi_pack.m:"
   ]
  },
  {
   "cell_type": "raw",
   "metadata": {},
   "source": [
    "function cv = logipack(L)\n",
    "    [r c] = size(L);\n",
    "    cv = cell(1,r);\n",
    "    for ii = 1:r\n",
    "        cv{ii} = find(L(ii,:));\n",
    "        if isempty(cv{ii})      % find can return 1x0 empty arrays\n",
    "            cv{ii} = [];        % so we make sure it is 0x0\n",
    "        end\n",
    "    end\n",
    "end "
   ]
  },
  {
   "cell_type": "markdown",
   "metadata": {},
   "source": [
    "######  problem centuries.m:\n",
    "\n",
    "######  Problem is small enough so there is no real need to get fancy:"
   ]
  },
  {
   "cell_type": "raw",
   "metadata": {},
   "source": [
    "function c = centuries(n)\n",
    "    if ~isscalar(n) || n < 1 || n > 3000 || n ~= floor(n)\n",
    "        c = '';\n",
    "    else\n",
    "        cents = {'I'; 'II'; 'III'; 'IV'; 'V'; 'VI'; 'VII'; 'VIII'; 'IX'; 'X';\n",
    "              'XI'; 'XII'; 'XIII'; 'XIV'; 'XV'; 'XVI'; 'XVII'; 'XVIII'; 'XIX'; 'XX';\n",
    "              'XXI'; 'XXII'; 'XXIII'; 'XXIV'; 'XXV'; 'XXVI'; 'XXVII'; 'XXVIII'; 'XXIX'; 'XXX'};\n",
    "        c = cents{ceil(n/100)};\n",
    "    end\n",
    "end"
   ]
  },
  {
   "cell_type": "markdown",
   "metadata": {},
   "source": [
    "###### Nevertheless, here is a general solution:"
   ]
  },
  {
   "cell_type": "raw",
   "metadata": {},
   "source": [
    "function c = centuries (y)\n",
    "    c = '';\n",
    "    if isscalar(y) && rem(y,1)==0 && y>0 && y<=3000\n",
    "        c = A2R(fix((y-1)/100)+1);\n",
    "    end\n",
    "end\n",
    "\n",
    "function R = A2R (A)\n",
    "    % Converts Arabic numbers to Roman strings.\n",
    "    Roman  = {'I' 'IV' 'V' 'IX' 'X' 'XL' 'L' 'XC' 'C' 'CD' 'D' 'CM' 'M'};\n",
    "    Arabic = {1 4 5 9 10 40 50 90 100 400 500 900 1000};\n",
    "    R = ''; k = 13;\n",
    "    while k>0                    % remove largest modulii first\n",
    "        if A>=Arabic{k}          % if value>current modulus\n",
    "            A = A-Arabic{k};     %   remove modulus from value\n",
    "            R = [R Roman{k}];    %   append Roman character\n",
    "        else\n",
    "            k = k-1;             % else consider next smaller modulus\n",
    "        end\n",
    "    end\n",
    "end"
   ]
  },
  {
   "cell_type": "markdown",
   "metadata": {},
   "source": [
    "######  problem find_zero.m:"
   ]
  },
  {
   "cell_type": "raw",
   "metadata": {},
   "source": [
    "function x = find_zero (f, x1,x2)    \n",
    "    x = (x1+x2)/2.0;              % find interval midpoint\n",
    "    while abs(f(x)) > 1e-10       % are we there yet? \n",
    "        if f(x1)*f(x)>0           % if f(left) and f(mid) have the same sign\n",
    "            x1 = x;               % move left to mid\n",
    "        else \n",
    "            x2 = x;               % move right to mid\n",
    "        end\n",
    "        x = (x1+x2)/2.0;          % recalculate midpoint\n",
    "    end\n",
    "end"
   ]
  },
  {
   "cell_type": "code",
   "execution_count": null,
   "metadata": {},
   "outputs": [],
   "source": []
  },
  {
   "cell_type": "code",
   "execution_count": null,
   "metadata": {},
   "outputs": [],
   "source": []
  }
 ],
 "metadata": {
  "kernelspec": {
   "display_name": "Python 3",
   "language": "python",
   "name": "python3"
  },
  "language_info": {
   "codemirror_mode": {
    "name": "ipython",
    "version": 3
   },
   "file_extension": ".py",
   "mimetype": "text/x-python",
   "name": "python",
   "nbconvert_exporter": "python",
   "pygments_lexer": "ipython3",
   "version": "3.6.4"
  }
 },
 "nbformat": 4,
 "nbformat_minor": 2
}
