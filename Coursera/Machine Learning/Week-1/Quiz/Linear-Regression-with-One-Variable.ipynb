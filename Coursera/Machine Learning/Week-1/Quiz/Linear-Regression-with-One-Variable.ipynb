{
 "cells": [
  {
   "cell_type": "markdown",
   "metadata": {},
   "source": [
    "#### 1. Consider the problem of predicting how well a student does in her second year of college/university, given how well she did in her first year.\n",
    "\n",
    "Specifically, let x be equal to the number of \"A\" grades (including A-. A and A+ grades) that a student receives in their first year of college (freshmen year). We would like to predict the value of y, which we define as the number of \"A\" grades they get in their second year (sophomore year).\n",
    "\n",
    "Here each row is one training example. Recall that in linear regression, our hypothesis is ```h_θ(x)=θ_0+ θ_1x```, and we use m to denote the number of training examples.\n",
    "<img src=\"https://d396qusza40orc.cloudfront.net/flex-ml/quizIIq1v3.png\" alt=\"\">\n",
    "For the training set given above (note that this training set may also be referenced in other questions in this quiz), what is the value of m? In the box below, please enter your answer (which should be a number between 0 and 10)."
   ]
  },
  {
   "cell_type": "markdown",
   "metadata": {},
   "source": [
    "##### Ans: 4"
   ]
  },
  {
   "cell_type": "markdown",
   "metadata": {},
   "source": [
    "#### 2. Many substances that can burn (such as gasoline and alcohol) have a chemical structure based on carbon atoms; for this reason they are called hydrocarbons. A chemist wants to understand how the number of carbon atoms in a molecule affects how much energy is released when that molecule combusts (meaning that it is burned). The chemist obtains the dataset below. In the column on the right, “kJ/mol” is the unit measuring the amount of energy released.\n",
    "<img src=\"https://d396qusza40orc.cloudfront.net/ml/images/2.2-quiz1.png\" alt=\"\">\n",
    "#### You would like to use linear regression ```(h_θ(x) = θ_0+θ_1x)``` to estimate the amount of energy released (y) as a function of the number of carbon atoms (x). Which of the following do you think will be the values you obtain for ```θ_0``` and ```θ_1```? You should be able to select the right answer without actually implementing linear regression. "
   ]
  },
  {
   "cell_type": "markdown",
   "metadata": {},
   "source": [
    "##### Ans: ```θ_0 = −569.6, θ_1 = −530.9```"
   ]
  },
  {
   "cell_type": "markdown",
   "metadata": {},
   "source": [
    "#### 3. Suppose we set ```θ_0 = −1, θ1 = 2``` in the linear regression hypothesis from Q1. What is ```hθ(6)```?"
   ]
  },
  {
   "cell_type": "markdown",
   "metadata": {},
   "source": [
    "##### Ans: 11"
   ]
  },
  {
   "cell_type": "markdown",
   "metadata": {},
   "source": [
    "#### 4. Let fff be some function so that ```f(θ_0,θ_1)``` outputs a number. For this problem, fff is some arbitrary/unknown smooth function (not necessarily the cost function of linear regression, so fff may have local optima). Suppose we use gradient descent to try to minimize ```f(θ_0,θ_1)``` as a function of ```θ_0``` and ```θ_1```. Which of the following statements are true? (Check all that apply.)"
   ]
  },
  {
   "cell_type": "markdown",
   "metadata": {},
   "source": [
    "##### Ans: \n",
    "- If ```θ_0``` and ```θ_1``` are initialized at a local minimum, then one iteration will not change their values.\n",
    "- If the learning rate is too small, then gradient descent may take a very long time to converge."
   ]
  },
  {
   "cell_type": "markdown",
   "metadata": {},
   "source": [
    "#### 5. Suppose that for some linear regression problem (say, predicting housing prices as in the lecture), we have some training set, and for our training set we managed to find some ```θ_0, θ_1``` such that ```J(θ_0,θ_1) = 0```.\n",
    "\n",
    "#### Which of the statements below must then be true? (Check all that apply.)"
   ]
  },
  {
   "cell_type": "markdown",
   "metadata": {},
   "source": [
    "##### Ans: \n",
    "- For these values of ```θ_0 and θ_1``` that satisfy ```J(θ_0,θ_1) = 0```, we have that ```h_θ(x(i))= y(i)``` for every training example ```(x(i),y(i))```"
   ]
  }
 ],
 "metadata": {
  "kernelspec": {
   "display_name": "Python 3",
   "language": "python",
   "name": "python3"
  },
  "language_info": {
   "codemirror_mode": {
    "name": "ipython",
    "version": 3
   },
   "file_extension": ".py",
   "mimetype": "text/x-python",
   "name": "python",
   "nbconvert_exporter": "python",
   "pygments_lexer": "ipython3",
   "version": "3.6.4"
  }
 },
 "nbformat": 4,
 "nbformat_minor": 2
}
