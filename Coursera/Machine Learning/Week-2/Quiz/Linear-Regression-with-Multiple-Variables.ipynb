{
 "cells": [
  {
   "cell_type": "markdown",
   "metadata": {},
   "source": [
    "#### 1. Suppose m=4 students have taken some class, and the class had a midterm exam and a final exam. You have collected a dataset of their scores on the two exams, which is as follows:\n",
    "\n",
    "|midterm exam | (midterm exam)2^22  | final exam |\n",
    "| ----------- | --------------------| ---------- |\n",
    "|89           |\t7921                | 96         |\n",
    "|72           |\t5184                | 74         |\n",
    "|94           |\t8836                | 87         |\n",
    "|69\t          |  4761               | 78         |\n",
    "\n",
    "#### You'd like to use polynomial regression to predict a student's final exam score from their midterm exam score. Concretely, suppose you want to fit a model of the form ```hθ(x)=θ_0+θ_1x_1+θ_2x_2```, where ```x1``` is the midterm score and ```x_2``` is (midterm score)2^22. Further, you plan to use both feature scaling (dividing by the \"max-min\", or range, of a feature) and mean normalization.\n",
    "\n",
    "#### What is the normalized feature ```x_2^{(4)}```? (Hint: midterm = 69, final = 78 is training example 4.) Please round off your answer to two decimal places and enter in the text box below."
   ]
  },
  {
   "cell_type": "markdown",
   "metadata": {},
   "source": [
    "##### Ans: -0.47"
   ]
  },
  {
   "cell_type": "markdown",
   "metadata": {},
   "source": [
    "#### 2.  You run gradient descent for 15 iterations with ```α=0.3``` and compute ```J(θ)``` after each iteration. You find that the value of ```J(θ)``` increases over time. Based on this, which of the following conclusions seems most plausible?"
   ]
  },
  {
   "cell_type": "markdown",
   "metadata": {},
   "source": [
    "##### Ans: Rather than use the current value of α\\alphaα, it'd be more promising to try a smaller value of α\\alphaα (say α=0.1\\alpha = 0.1α=0.1). "
   ]
  },
  {
   "cell_type": "markdown",
   "metadata": {},
   "source": [
    "#### 3. Suppose you have m=23 training examples with n=5 features (excluding the additional all-ones feature for the intercept term, which you should add). The normal equation is ```θ = (X^TX)^{-1}X^Ty```. For the given values of mmm and nnn, what are the dimensions of ```θ, X, and y``` in this equation?"
   ]
  },
  {
   "cell_type": "markdown",
   "metadata": {},
   "source": [
    "##### Ans: X is 23×6, y is 23×1, θ is 6×1"
   ]
  },
  {
   "cell_type": "markdown",
   "metadata": {},
   "source": [
    "#### 4. Suppose you have a dataset with m=1000000 examples and n=200000 features for each example. You want to use multivariate linear regression to fit the parameters θ\\thetaθ to our data. Should you prefer gradient descent or the normal equation?"
   ]
  },
  {
   "cell_type": "markdown",
   "metadata": {},
   "source": [
    "##### Ans: Gradient descent, since ```(X^TX)^{-1}``` will be very slow to compute in the normal equation. "
   ]
  },
  {
   "cell_type": "markdown",
   "metadata": {},
   "source": [
    "#### 5.  Which of the following are reasons for using feature scaling?"
   ]
  },
  {
   "cell_type": "markdown",
   "metadata": {},
   "source": [
    "##### Ans: It speeds up gradient descent by making it require fewer iterations to get to a good solution. "
   ]
  }
 ],
 "metadata": {
  "kernelspec": {
   "display_name": "Python 3",
   "language": "python",
   "name": "python3"
  },
  "language_info": {
   "codemirror_mode": {
    "name": "ipython",
    "version": 3
   },
   "file_extension": ".py",
   "mimetype": "text/x-python",
   "name": "python",
   "nbconvert_exporter": "python",
   "pygments_lexer": "ipython3",
   "version": "3.6.4"
  }
 },
 "nbformat": 4,
 "nbformat_minor": 2
}
