{
 "cells": [
  {
   "cell_type": "markdown",
   "metadata": {},
   "source": [
    "#### 1. Suppose I first execute the following in Octave/Matlab:\n",
    "```octave\n",
    "A = [1 2; 3 4; 5 6];\n",
    "B = [1 2 3; 4 5 6];\n",
    "```\n",
    "#### Which of the following are then valid commands? Check all that apply. (Hint: A' denotes the transpose of A.)"
   ]
  },
  {
   "cell_type": "markdown",
   "metadata": {},
   "source": [
    "##### Ans: \n",
    "```\n",
    "C = A' + B;\n",
    "C = B * A;\n",
    "```"
   ]
  },
  {
   "cell_type": "markdown",
   "metadata": {},
   "source": [
    "#### 2. Let \n",
    "```\n",
    "    16 2 3 13\n",
    "A=  5 11 10 8\n",
    "    9 7  6  12\n",
    "    4 14 15  1\n",
    "```\n",
    "#### Which of the following indexing expressions gives \n",
    "```\n",
    "    16 2\n",
    "    5  11\n",
    "B=  9  7\n",
    "    4  14\n",
    "```\n",
    "Check all that apply."
   ]
  },
  {
   "cell_type": "markdown",
   "metadata": {},
   "source": [
    "##### Ans: \n",
    "```\n",
    "B = A(:, 1:2);\n",
    "B = A(1:4, 1:2);\n",
    "```"
   ]
  },
  {
   "cell_type": "markdown",
   "metadata": {},
   "source": [
    "#### 3. Let A be a 10x10 matrix and x be a 10-element vector. Your friend wants to compute the product Ax and writes the following code:\n",
    "```octave\n",
    "v = zeros(10, 1);\n",
    "for i = 1:10\n",
    "  for j = 1:10\n",
    "    v(i) = v(i) + A(i, j) * x(j);\n",
    "  end\n",
    "end\n",
    "```\n",
    "#### How would you vectorize this code to run without any for loops? Check all that apply. "
   ]
  },
  {
   "cell_type": "markdown",
   "metadata": {},
   "source": [
    "##### Ans: v = A * x; "
   ]
  },
  {
   "cell_type": "markdown",
   "metadata": {},
   "source": [
    "#### 4. Say you have two column vectors v and w, each with 7 elements (i.e., they have dimensions 7x1). Consider the following code:\n",
    "```octave\n",
    "z = 0;\n",
    "for i = 1:7\n",
    "  z = z + v(i) * w(i)\n",
    "end\n",
    "```\n",
    "#### Which of the following vectorizations correctly compute z? Check all that apply."
   ]
  },
  {
   "cell_type": "markdown",
   "metadata": {},
   "source": [
    "##### Ans: \n",
    "```\n",
    "z = sum (v .* w);\n",
    "z = w' * v; \n",
    "```"
   ]
  },
  {
   "cell_type": "markdown",
   "metadata": {},
   "source": [
    "#### 5. In Octave/Matlab, many functions work on single numbers, vectors, and matrices. For example, the sin function when applied to a matrix will return a new matrix with the sin of each element. But you have to be careful, as certain functions have different behavior. Suppose you have an 7x7 matrix X. You want to compute the log of every element, the square of every element, add 1 to every element, and divide every element by 4. You will store the results in four matrices, A,B,C,D. One way to do so is the following code:\n",
    "```octave\n",
    "for i = 1:7\n",
    "  for j = 1:7\n",
    "    A(i, j) = log(X(i, j));\n",
    "    B(i, j) = X(i, j) ^ 2;\n",
    "    C(i, j) = X(i, j) + 1;\n",
    "    D(i, j) = X(i, j) / 4;\n",
    "  end\n",
    "end\n",
    "```\n",
    " Which of the following correctly compute A,B,C or D? Check all that apply.\n"
   ]
  },
  {
   "cell_type": "markdown",
   "metadata": {},
   "source": [
    "##### Ans: \n",
    "```\n",
    "C = X + 1;\n",
    "D = X / 4;\n",
    "B = X .^ 2; \n",
    "```"
   ]
  }
 ],
 "metadata": {
  "kernelspec": {
   "display_name": "Python 3",
   "language": "python",
   "name": "python3"
  },
  "language_info": {
   "codemirror_mode": {
    "name": "ipython",
    "version": 3
   },
   "file_extension": ".py",
   "mimetype": "text/x-python",
   "name": "python",
   "nbconvert_exporter": "python",
   "pygments_lexer": "ipython3",
   "version": "3.6.4"
  }
 },
 "nbformat": 4,
 "nbformat_minor": 2
}
