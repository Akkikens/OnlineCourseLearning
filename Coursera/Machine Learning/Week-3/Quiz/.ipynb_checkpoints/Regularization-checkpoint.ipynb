{
 "cells": [
  {
   "cell_type": "markdown",
   "metadata": {},
   "source": [
    "#### 1.  You are training a classification model with logistic regression. Which of the following statements are true? Check all that apply."
   ]
  },
  {
   "cell_type": "markdown",
   "metadata": {},
   "source": [
    "##### Ans: Adding a new feature to the model always results in equal or better performance on the training set. "
   ]
  },
  {
   "cell_type": "markdown",
   "metadata": {},
   "source": [
    "#### 2.  Suppose you ran logistic regression twice, once with λ=0\\lambda = 0λ=0, and once with λ=1\\lambda = 1λ=1. One of the times, you got parameters \n",
    "```\n",
    "θ=74.81\n",
    "  45.05\n",
    "```\n",
    "####  and the other time you got\n",
    "```\n",
    "θ=1.37\n",
    "  0.51\n",
    "```\n",
    "####  However, you forgot which value of λ corresponds to which value of θ\\thetaθ. Which one do you think corresponds to λ=1?"
   ]
  },
  {
   "cell_type": "markdown",
   "metadata": {},
   "source": [
    "##### Ans: \n",
    "```\n",
    "θ=1.37\n",
    "  0.51\n",
    "```"
   ]
  },
  {
   "cell_type": "markdown",
   "metadata": {},
   "source": [
    "#### 3.  Which of the following statements about regularization are true? Check all that apply."
   ]
  },
  {
   "cell_type": "markdown",
   "metadata": {},
   "source": [
    "##### Ans: Using too large a value of λ can cause your hypothesis to underfit the data. "
   ]
  },
  {
   "cell_type": "markdown",
   "metadata": {},
   "source": [
    "#### 4. In which one of the following figures do you think the hypothesis has overfit the training set?"
   ]
  },
  {
   "cell_type": "markdown",
   "metadata": {},
   "source": [
    "##### Ans: ![](./2.4.png)"
   ]
  },
  {
   "cell_type": "markdown",
   "metadata": {},
   "source": [
    "#### 5. In which one of the following figures do you think the hypothesis has underfit the training set?"
   ]
  },
  {
   "cell_type": "markdown",
   "metadata": {},
   "source": [
    "##### Ans: ![](./2.5.png)"
   ]
  }
 ],
 "metadata": {
  "kernelspec": {
   "display_name": "Python 3",
   "language": "python",
   "name": "python3"
  },
  "language_info": {
   "codemirror_mode": {
    "name": "ipython",
    "version": 3
   },
   "file_extension": ".py",
   "mimetype": "text/x-python",
   "name": "python",
   "nbconvert_exporter": "python",
   "pygments_lexer": "ipython3",
   "version": "3.6.4"
  }
 },
 "nbformat": 4,
 "nbformat_minor": 2
}
