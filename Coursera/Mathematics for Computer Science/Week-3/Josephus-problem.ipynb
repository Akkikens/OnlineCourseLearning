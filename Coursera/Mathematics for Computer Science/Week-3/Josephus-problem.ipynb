{
 "cells": [
  {
   "cell_type": "markdown",
   "metadata": {},
   "source": [
    "#### 1. Survivor for armies of sizes 2 to 18: type them comma separated in order; if you are missing a number then have two commas together to designate that no number was entered."
   ]
  },
  {
   "cell_type": "markdown",
   "metadata": {},
   "source": [
    "##### Ans: 1,3,1,3,5,7,1,3,5,7,9,11,13,15,1,3,5"
   ]
  },
  {
   "cell_type": "markdown",
   "metadata": {},
   "source": [
    "#### 2. Survivors for armies of sizes 2 to 18 in binary: type them comma separated in order; if you are missing a number then have two commas together to designate that no number was entered."
   ]
  },
  {
   "cell_type": "markdown",
   "metadata": {},
   "source": [
    "##### Ans: 1,11,1,11,101,111,1,11,101,111,1001,1011,1101,1111,1,11,101"
   ]
  },
  {
   "cell_type": "markdown",
   "metadata": {},
   "source": [
    "#### 3. Describe the pattern found in determining the survivor"
   ]
  },
  {
   "cell_type": "markdown",
   "metadata": {},
   "source": [
    "##### Ans: \n",
    "- take the size of the army in binary, move the leading 1 to the rightmost place, this new number is the survivor.\n",
    "- subtract the largest power of two from the size of the army, double the result, add one"
   ]
  }
 ],
 "metadata": {
  "kernelspec": {
   "display_name": "Python 3",
   "language": "python",
   "name": "python3"
  },
  "language_info": {
   "codemirror_mode": {
    "name": "ipython",
    "version": 3
   },
   "file_extension": ".py",
   "mimetype": "text/x-python",
   "name": "python",
   "nbconvert_exporter": "python",
   "pygments_lexer": "ipython3",
   "version": "3.6.4"
  }
 },
 "nbformat": 4,
 "nbformat_minor": 2
}
