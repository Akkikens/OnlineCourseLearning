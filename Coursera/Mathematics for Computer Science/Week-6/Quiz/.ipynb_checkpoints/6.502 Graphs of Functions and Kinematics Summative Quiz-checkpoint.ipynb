{
 "cells": [
  {
   "cell_type": "markdown",
   "metadata": {},
   "source": [
    "#### 1. If you were to plot the point (−1,−7) what would be the correct method? Select the two options that complete the blank spaces in the following statement: 'Starting from the origin ________ and ________'"
   ]
  },
  {
   "cell_type": "markdown",
   "metadata": {},
   "source": [
    "##### Ans: \n",
    "- Move 1 units to the left in the horizontal direction\n",
    "- Move 7 units to the down in the vertical direction"
   ]
  },
  {
   "cell_type": "markdown",
   "metadata": {},
   "source": [
    "#### 2. Write the condition that describes the interval for values of xxx:\n",
    "\n",
    "(−20,13].\n",
    "\n",
    "Notation:\n",
    "\n",
    "Use <= for the ≤\\leq≤ symbol\n",
    "\n",
    "Use >= for the ≥\\geq≥ symbol\n",
    "\n",
    "For example:\n",
    "\n",
    "to represent 2≤x<5{2\\leq x< 5}2≤x<5, simply write 2<=x<52<=x<52<=x<5.\n",
    "\n",
    "(Write your answer with no spaces in between characters: e.g. 2<=x<5)"
   ]
  },
  {
   "cell_type": "markdown",
   "metadata": {},
   "source": [
    "##### Ans: -20<x<=13"
   ]
  },
  {
   "cell_type": "markdown",
   "metadata": {},
   "source": [
    "#### 3.  Write the interval notation for the condition:\n",
    "\n",
    "−3≤x≤1-3 \\leq x \\leq 1−3≤x≤1.\n",
    "\n",
    "Notation:\n",
    "\n",
    "Use the following notation to represent +∞+\\infty+∞ and −∞-\\infty−∞\n",
    "\n",
    "Start the expression with $ $ and end with $ $, no spaces between the $ symbols.\n",
    "\n",
    "For example:\n",
    "\n",
    "to represent (−∞,−2)(-\\infty,-2)(−∞,−2), simply write $ $(-\\infty,-2)$ $ with no spaces in between the $ symbol.\n",
    "\n",
    "to represent 2<x<5{2< x< 5}2<x<5, simply write (2,5)(2,5)(2,5).\n",
    "\n",
    "(Write your answer with no spaces in between characters)"
   ]
  },
  {
   "cell_type": "markdown",
   "metadata": {},
   "source": [
    "##### Ans: [-3,1]"
   ]
  },
  {
   "cell_type": "markdown",
   "metadata": {},
   "source": [
    "#### 4. Consider the function f(x)=\\frac{3}{x}. Prepare a table of values to plot the graph of f(x). Which of the following options are good practice or you will observe in your table of values? Select all that apply. (0.90 / 1)"
   ]
  },
  {
   "cell_type": "markdown",
   "metadata": {},
   "source": [
    "##### Ans: \n",
    "- The graph has a vertical asymptote at x=0\n",
    "- Include symmetrical values of x\n",
    "- The domain of this function is R−0\n",
    "- Include positive and negative values of x\n",
    "- The graph has a horizontal asymptote at y=0\n",
    "- Cannot calculate the function for x=0"
   ]
  },
  {
   "cell_type": "markdown",
   "metadata": {},
   "source": [
    "#### 4. Consider the function f(x)=\\frac{3}{(-3-x)^{2}} Prepare a table of values to plot the graph of f(x). Which of the following options are good practice or you will observe in your table of values? Select all that apply."
   ]
  },
  {
   "cell_type": "markdown",
   "metadata": {},
   "source": [
    "##### Ans: \n",
    "(0.90 / 1)\n",
    "- Include more values of x close to 0 than around any other number\n",
    "- Include symmetrical values of x\n",
    "- The graph has a horizontal asymptote at y=0\n",
    "- Include positive and negative values of x"
   ]
  },
  {
   "cell_type": "markdown",
   "metadata": {},
   "source": [
    "#### 5. Consider the function f(x)=7x^{2}. Prepare a table of values to plot the graph of f(x). Which of the following options are good practice or you will observe in your table of values? Select all that apply. (0.90 / 1)"
   ]
  },
  {
   "cell_type": "markdown",
   "metadata": {},
   "source": [
    "##### Ans: \n",
    "- Include positive and negative values of xxx\n",
    "- The graph of f(x) as a vertex at (0,0)\n",
    "- Include symmetrical values of x"
   ]
  },
  {
   "cell_type": "markdown",
   "metadata": {},
   "source": [
    "#### 5. Consider the function f(x)=x^2+8x+16. Prepare a table of values to plot the graph of f(x). Which of the following options are good practice or you will observe in your table of values? Select all that apply."
   ]
  },
  {
   "cell_type": "markdown",
   "metadata": {},
   "source": [
    "##### Ans: \n",
    "- Include symmetrical values of x\n",
    "- The graph of f(x) as a vertex at (−4,0)\n",
    "- Include positive and negative values of x"
   ]
  },
  {
   "cell_type": "markdown",
   "metadata": {},
   "source": [
    "#### 6. In an attempt to plot the graph of the functionf(x)=\\frac{1}{x^{2}} a learner produced the graph below:\n",
    "<img src=\"https://d3c33hcgiwev3.cloudfront.net/imageAssetProxy.v1/uw2DjOQOEeiAgQrXx6bp4g_c504a6b3c64a152f809c300923a373ed_graph_1_over_x_squared_good_window_asymptotes_joined_up_points.png?expiry=1555200000000&amp;hmac=OQw2YUucm-gbnZBzKeQQf-cCKf_TzFVRFzs5vjN4-Wo\" alt=\"\" >\n",
    "The 'crosses' mark points that were plotted from the table of values.\n",
    "\n",
    "The orange line is the intended graph.\n",
    "\n",
    "There are also interrupted lines in green marked on the plot.\n",
    "\n",
    "Select all statements that are true."
   ]
  },
  {
   "cell_type": "markdown",
   "metadata": {},
   "source": [
    "##### Ans: \n",
    "(0.6/1)\n",
    "- more points for x greater than 5 and also lesser than −5 need to be calculated and plotted\n",
    "- the green lines represent the asymptotes\n",
    "\n",
    "(0.60 / 1)\n",
    "- the green lines represent the asymptotes\n",
    "- more points near x=0 need to be calculated and plotted"
   ]
  },
  {
   "cell_type": "markdown",
   "metadata": {},
   "source": [
    "#### 7. In an attempt to plot the graph of the function f(x)=\\frac{1}{x^{2}} a learner produced the graph below:\n",
    "<img src=\"https://d3c33hcgiwev3.cloudfront.net/imageAssetProxy.v1/HSEfyuQbEeiixgqCUDoEfA_75ac3990323a81c3269df1bbe992ba64_graph_1_over_x_squared_good_window_asymptotes.png?expiry=1555200000000&amp;hmac=GRyTCLJu1zrehw1CigjaaYrR31hmm493xqYsiXw_FLo\" alt=\"\" >\n",
    "The 'crosses' mark points that were plotted from the table of values.\n",
    "\n",
    "The orange line is the intended graph.\n",
    "\n",
    "There are also interrupted lines in green marked on the plot.\n",
    "\n",
    "Select all statements that are true."
   ]
  },
  {
   "cell_type": "markdown",
   "metadata": {},
   "source": [
    "##### Ans: \n",
    "(0.8/1)\n",
    "- the orange line should not continue between x=−0.1 and x=0.1 because there are no points plotted for those values of x\n",
    "- the graph is complete\n",
    "- the green lines represent the asymptotes\n",
    "\n",
    "(0.75 / 1)\n",
    "- the green lines represent the asymptotes\n",
    "- more points for x greater than 5 and also lesser than −5 need to be calculated and plotted\n",
    "- the graph is complete"
   ]
  },
  {
   "cell_type": "markdown",
   "metadata": {},
   "source": [
    "#### 8. In an attempt to plot the graph of the function f(x)=\\frac{1}{x^{2}} a learner produced the graph below:\n",
    "<img src=\"https://d3c33hcgiwev3.cloudfront.net/imageAssetProxy.v1/e2xjF-QfEeiixgqCUDoEfA_7cc7c787164b8101375eeccfa700a933_graph_1_over_x_squared_some_points_correct_line_bad_window.png?expiry=1555200000000&amp;hmac=FrwLwkC3QQsZdumCp8dJs7SAIsJlS61dlCmAPcu7lJ0\" alt=\"\" >\n",
    "The 'crosses' mark points that were plotted from the table of values.\n",
    "\n",
    "The orange line is the intended graph.\n",
    "\n",
    "Select all statements that are true."
   ]
  },
  {
   "cell_type": "markdown",
   "metadata": {},
   "source": [
    "##### Ans: \n",
    "(0.8/1)\n",
    "- the line of equation y=0 is an asymptote of this graph\n",
    "- more points for x greater than 6 and also lesser than −6 need to be calculated and plotted\n",
    "- the choice of window for the graph does not fully portray the behaviour of the function\n",
    "\n",
    "(0.80 / 1)\n",
    "- it is absolutely crucial to calculate and plot more points for xxx bewteen −1 and 1\n",
    "- the asymptotic behaviour near x=0 is not portrayed in the plot\n",
    "- the choice of window for the graph does not fully portray the behaviour of the function\n",
    "- the line of equation y=0 is an asymptote of this graph"
   ]
  },
  {
   "cell_type": "markdown",
   "metadata": {},
   "source": [
    "#### 9. What is wrong with this plot with table of values:\n",
    "\n",
    "x=−5−4−3−2−112345 y=0.040.060.110.25110.250.110.060.04\n",
    "<img src=\"https://d3c33hcgiwev3.cloudfront.net/imageAssetProxy.v1/d6vABOQkEei5Kg7DUflKxA_3209764f99d7a56863649f8bbcf5ef27_graph_1_over_x_squared_wrong.png?expiry=1555200000000&amp;hmac=FBYuJAz0aKZ3vMUwTOlV1hMDW7MMLxhigs7UThZbWEM\" alt=\"\" >\n",
    "Select all statements that are true."
   ]
  },
  {
   "cell_type": "markdown",
   "metadata": {},
   "source": [
    "##### Ans: \n",
    "(0.80 / 1)\n",
    "- it excludes the zeros of the function\n",
    "- the graph excludes the behaviour of the function between x=−1 and x=1\n",
    "- the asymptotes are missing\n",
    "\n",
    "(0.60 / 1)\n",
    "- it excludes the zeros of the function\n",
    "- the graph excludes the behaviour for x>6 and for x<−6\n",
    "- nothing is wrong, it is a fair plot as it shows all the points calculated\n",
    "- the graph excludes the behaviour of the function between x=−1 and x=1"
   ]
  },
  {
   "cell_type": "markdown",
   "metadata": {},
   "source": [
    "#### 10. Choose all that apply:\n",
    "\n",
    "y=\\frac{1}{x^{2}+x} is transformed to y=-5+\\frac{1}{(x-8)^{2}+x-8}"
   ]
  },
  {
   "cell_type": "markdown",
   "metadata": {},
   "source": [
    "##### Ans: \n",
    "- A shift of −5 in the y direction\n",
    "- A shift of +8 in the x direction"
   ]
  },
  {
   "cell_type": "markdown",
   "metadata": {},
   "source": [
    "#### 11. You may use the following kinematics equations (SUVAT equations):\n",
    "\n",
    "s=\\frac{1}{2}(u+v){t}\n",
    "\n",
    "v^{2}=u^{2}+2as\n",
    "\n",
    "v=u+at\n",
    "\n",
    "A particle moves with constant acceleration 7ms^{-2}. It's original velocity is 1ms^{-1}. Find the distance in metres the particle has travelled after 4s."
   ]
  },
  {
   "cell_type": "markdown",
   "metadata": {},
   "source": [
    "##### Ans: 60"
   ]
  },
  {
   "cell_type": "markdown",
   "metadata": {},
   "source": [
    "#### 12. You may use the following kinematics equations (SUVAT equations):\n",
    "\n",
    "s=\\frac{1}{2}(u+v){t}\n",
    "\n",
    "v^{2}=u^{2}+2as\n",
    "\n",
    "v=u+at\n",
    "\n",
    "A particle moves with constant acceleration. It's final velocity is 2ms^{-1} and it's acceleration is -3ms^{-2}. Find the initial velocity if the particle travels a distance of 7m."
   ]
  },
  {
   "cell_type": "markdown",
   "metadata": {},
   "source": [
    "##### Ans: $\\pm6.8$ (wrong)"
   ]
  },
  {
   "cell_type": "markdown",
   "metadata": {},
   "source": [
    "#### 12. You may use the following kinematics equations (SUVAT equations):\n",
    "\n",
    "s=\\frac{1}{2}(u+v){t}\n",
    "\n",
    "v^{2}=u^{2}+2as\n",
    "\n",
    "v=u+at\n",
    "\n",
    "A particle moves with constant acceleration. It's original velocity is 1ms^{-1} and it's final velocity is -7ms^{-1}. Find the time taken to cover the distance of −1m."
   ]
  },
  {
   "cell_type": "markdown",
   "metadata": {},
   "source": [
    "##### Ans: 0.3"
   ]
  }
 ],
 "metadata": {
  "kernelspec": {
   "display_name": "Python 3",
   "language": "python",
   "name": "python3"
  },
  "language_info": {
   "codemirror_mode": {
    "name": "ipython",
    "version": 3
   },
   "file_extension": ".py",
   "mimetype": "text/x-python",
   "name": "python",
   "nbconvert_exporter": "python",
   "pygments_lexer": "ipython3",
   "version": "3.6.4"
  }
 },
 "nbformat": 4,
 "nbformat_minor": 2
}
