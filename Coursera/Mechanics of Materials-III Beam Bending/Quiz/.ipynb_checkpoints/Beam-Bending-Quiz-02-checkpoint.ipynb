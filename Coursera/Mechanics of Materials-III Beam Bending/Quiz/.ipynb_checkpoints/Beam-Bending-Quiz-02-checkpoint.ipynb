{
 "cells": [
  {
   "cell_type": "markdown",
   "metadata": {},
   "source": [
    "#### 1. A rectangular beam undergoing pure bending has a cross section with 100mm width and 300mm height as shown below. At a certain section of the beam, the maximum flexural stress is 10 MPa. The entire beam remains in the linear elastic region and is homogeneous. The plane of bending is about the x-axis.\n",
    "\n",
    "#### Determine the maximum moment that the beam can support at that section.\n",
    "\n",
    "<img src=\"https://d3c33hcgiwev3.cloudfront.net/imageAssetProxy.v1/lmZ9KfhMEeW0egr7Rlel1w_8b359a0026b457829b71353c5776f865_Untitled.jpg?expiry=1538179200000&hmac=icpaKrnej2Eij8NqDgsOoAdTQ5jdCWIa0Hnr7uT3308\">"
   ]
  },
  {
   "cell_type": "markdown",
   "metadata": {},
   "source": [
    "##### Ans: The maximum moment that the beam can support at that section is 15.0 kN-m."
   ]
  },
  {
   "cell_type": "markdown",
   "metadata": {},
   "source": [
    "#### 2. A beam undergoing pure bending has a cross section as shown below. The flexural stress at point A is 15 MPa (T). The entire beam remains in the linear elastic region and is homogeneous. The plane of bending is about the x-axis. Determine the maximum flexural stress on this section of the beam and whether it is in tension or compression.\n",
    "\n",
    "<img src=\"https://d3c33hcgiwev3.cloudfront.net/imageAssetProxy.v1/xZS8BvhMEeW42w5vpJam5Q_00e855e7ab0a6acdd2581167e70f0ad7_Untitled.jpg?expiry=1538179200000&hmac=oxsmbPJCw43IH-JsiPdyJb_57VepvDrIJrv1BpumZJw\">"
   ]
  },
  {
   "cell_type": "markdown",
   "metadata": {},
   "source": [
    "##### Ans: The maximum flexural stress on this section of the beam is 50.0 MPa (T). -> wrong"
   ]
  },
  {
   "cell_type": "markdown",
   "metadata": {},
   "source": [
    "#### 3. A hollow rectangular beam undergoing pure bending has a cross section as shown below. The entire beam remains in the linear elastic region and is homogeneous. At this cross section, the beam experiences a bending moment of 7300 N-m that causes compression at the top of the beam and tension at the bottom of the beam. The plane of bending is about the x-axis.\n",
    "\n",
    "#### Determine the flexural stress of the beam at points A and B.\n",
    "\n",
    "<img src=\"https://d3c33hcgiwev3.cloudfront.net/imageAssetProxy.v1/5tAeUvhMEeW0egr7Rlel1w_0db626fc4bb7fdc4264037c690fdfc07_Untitled.jpg?expiry=1538179200000&hmac=s_EzyjRmivSBZS72ZAJnzB-6-jpKxvrQuVyegxwoX6Q\">"
   ]
  },
  {
   "cell_type": "markdown",
   "metadata": {},
   "source": [
    "##### Ans: The flexural stress at point A is 5.49 MPa (C). The flexural stress at point B is 7.31 MPa (T). -> wrong"
   ]
  }
 ],
 "metadata": {
  "kernelspec": {
   "display_name": "Python 3",
   "language": "python",
   "name": "python3"
  },
  "language_info": {
   "codemirror_mode": {
    "name": "ipython",
    "version": 3
   },
   "file_extension": ".py",
   "mimetype": "text/x-python",
   "name": "python",
   "nbconvert_exporter": "python",
   "pygments_lexer": "ipython3",
   "version": "3.6.4"
  }
 },
 "nbformat": 4,
 "nbformat_minor": 2
}
