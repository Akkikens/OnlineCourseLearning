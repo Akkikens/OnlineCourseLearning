{
 "cells": [
  {
   "cell_type": "markdown",
   "metadata": {},
   "source": [
    "1. True or false: Suppose a finite dimensional function uh(x)u^h(x)uh(x) is expanded in terms of basis functions NA(x)N^A(x)NA(x), where A=1,...,nA = 1,...,nA=1,...,n. Now suppose that uh(x)u^h(x)uh(x) is a numerical solution of some partial differential equation. Then, uh(x)u^h(x)uh(x) can, under certain conditions, coincide with the exact solution of the partial differential equation.\n",
    "\n",
    "Ans: True\n",
    "\n",
    "2. If the bi-unit domain −1<ξ<1-1 < \\xi < 1−1<ξ<1 is mapped to an element with nodal positions xe1=1.5x^1_e = 1.5xe1​=1.5, xe2=3.2x^2_e = 3.2xe2=3.2, then the derivative dx/dξdx/d\\xidx/dξ is equal to\n",
    "\n",
    "Ans: 0.85\n",
    "\n",
    "3. Consider a partition of the domain (0,L)(0,L)(0,L) into neln_{el}nel​ elements for which the weak form is written as an integral over (0,L)(0,L)(0,L). How many sub-integrals can the weak form be broken up into?\n",
    "\n",
    "Ans: nel"
   ]
  }
 ],
 "metadata": {
  "kernelspec": {
   "display_name": "Python 3",
   "language": "python",
   "name": "python3"
  },
  "language_info": {
   "codemirror_mode": {
    "name": "ipython",
    "version": 3
   },
   "file_extension": ".py",
   "mimetype": "text/x-python",
   "name": "python",
   "nbconvert_exporter": "python",
   "pygments_lexer": "ipython3",
   "version": "3.6.4"
  }
 },
 "nbformat": 4,
 "nbformat_minor": 2
}
