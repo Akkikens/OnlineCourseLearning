{
 "cells": [
  {
   "cell_type": "markdown",
   "metadata": {},
   "source": [
    "<p>Exploring the HyperText Transport Protocol</p>\n",
    "<p>You are to retrieve the following document using the HTTP protocol in a way that you can examine the HTTP Response headers.</p>\n",
    "<p><a href=\"http://data.pr4e.org/intro-short.txt\">http://data.pr4e.org/intro-short.txt</a></p>\n",
    "\n",
    "<p>There are three ways that you might retrieve this web page and look at the response headers:</p>\n",
    "<ul>\n",
    "    <li><b>Preferred:</b> Modify the <a href=\"https://www.py4e.com/code3/socket1.py\">socket1.py</a> program to retrieve the above URL and print out the headers and data. Make sure to <b>change</b> the code to retrieve the above URL - the values are different for each URL.</li>\n",
    "    <li>Open the URL in a web browser with a developer console or FireBug and manually examine the headers that are returned.</li>\n",
    "    <li>Use the <b>telnet</b> program as shown in lecture to retrieve the headers and content.</li>\n",
    "</ul>\n",
    "<p>Enter the header values in each of the fields below and press \"Submit\".</p>"
   ]
  },
  {
   "cell_type": "markdown",
   "metadata": {},
   "source": [
    "### Solution Approach:\n",
    "<ul>\n",
    "    <li>Go to the link</li>\n",
    "    <li>Right Click on the mouse and Select <b>Inspect Element(Q)</b></li>\n",
    "    <li>Go the Network</li>\n",
    "    <li>Reload the link agin</li>\n",
    "    <li>On the right side, you will get the answer</li>\n",
    "</ul>"
   ]
  },
  {
   "cell_type": "markdown",
   "metadata": {},
   "source": [
    "#### Solution: \n",
    "<ul>\n",
    "    <li><b>Last-Modified: </b>Sat, 13 May 2017 11:22:22 GMT</li>\n",
    "    <li><b>ETag: </b>\"1d3-54f6609240717\"</li>\n",
    "    <li><b>Content-Length: </b>467</li>\n",
    "    <li><b>Cache-Control: </b>max-age=0, no-cache, no-store, must-revalidate</li>\n",
    "    <li><b>Content-Type: </b>text/plain</li>\n",
    "</ul>"
   ]
  }
 ],
 "metadata": {
  "kernelspec": {
   "display_name": "Python 3",
   "language": "python",
   "name": "python3"
  },
  "language_info": {
   "codemirror_mode": {
    "name": "ipython",
    "version": 3
   },
   "file_extension": ".py",
   "mimetype": "text/x-python",
   "name": "python",
   "nbconvert_exporter": "python",
   "pygments_lexer": "ipython3",
   "version": "3.6.4"
  }
 },
 "nbformat": 4,
 "nbformat_minor": 2
}
