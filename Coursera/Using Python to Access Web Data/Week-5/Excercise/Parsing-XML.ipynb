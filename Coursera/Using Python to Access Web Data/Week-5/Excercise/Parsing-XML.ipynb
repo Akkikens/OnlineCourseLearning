{
 "cells": [
  {
   "cell_type": "code",
   "execution_count": 1,
   "metadata": {},
   "outputs": [],
   "source": [
    "import xml.etree.ElementTree as ET"
   ]
  },
  {
   "cell_type": "code",
   "execution_count": 3,
   "metadata": {},
   "outputs": [
    {
     "name": "stdout",
     "output_type": "stream",
     "text": [
      "Name: Chuck\n",
      "Attribute: yes\n"
     ]
    }
   ],
   "source": [
    "data =  '''\n",
    "        <person>\n",
    "            <name>Chuck</name>\n",
    "            <phone type=\"int1\">+1 734 303 4456</phone>\n",
    "            <email hide=\"yes\"/>\n",
    "        </person>\n",
    "        '''\n",
    "tree = ET.fromstring(data)\n",
    "print('Name:', tree.find('name').text)\n",
    "print('Attribute:', tree.find('email').get('hide'))"
   ]
  },
  {
   "cell_type": "code",
   "execution_count": 5,
   "metadata": {},
   "outputs": [
    {
     "name": "stdout",
     "output_type": "stream",
     "text": [
      "User count: 2\n",
      "Name: Chuck\n",
      "ID: 002\n",
      "Attribue: 2\n",
      "Name: Brent\n",
      "ID: 007\n",
      "Attribue: 7\n"
     ]
    }
   ],
   "source": [
    "inputData = '''\n",
    "            <stuff>\n",
    "                <users>\n",
    "                    <user x=\"2\">\n",
    "                        <id>002</id>\n",
    "                        <name>Chuck</name>\n",
    "                    </user>\n",
    "                    <user x=\"7\">\n",
    "                        <id>007</id>\n",
    "                        <name>Brent</name>\n",
    "                    </user>\n",
    "                </users>\n",
    "            </stuff>\n",
    "            '''\n",
    "\n",
    "treeData = ET.fromstring(inputData)\n",
    "lst = treeData.findall('users/user')\n",
    "print('User count:', len(lst))\n",
    "\n",
    "for item in lst:\n",
    "    print('Name:', item.find('name').text)\n",
    "    print('ID:', item.find('id').text)\n",
    "    print('Attribue:', item.get('x'))"
   ]
  }
 ],
 "metadata": {
  "kernelspec": {
   "display_name": "Python 3",
   "language": "python",
   "name": "python3"
  },
  "language_info": {
   "codemirror_mode": {
    "name": "ipython",
    "version": 3
   },
   "file_extension": ".py",
   "mimetype": "text/x-python",
   "name": "python",
   "nbconvert_exporter": "python",
   "pygments_lexer": "ipython3",
   "version": "3.6.4"
  }
 },
 "nbformat": 4,
 "nbformat_minor": 2
}
