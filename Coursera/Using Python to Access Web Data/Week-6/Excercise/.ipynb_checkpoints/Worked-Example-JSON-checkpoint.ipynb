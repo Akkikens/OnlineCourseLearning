{
 "cells": [
  {
   "cell_type": "code",
   "execution_count": 1,
   "metadata": {},
   "outputs": [],
   "source": [
    "import json"
   ]
  },
  {
   "cell_type": "code",
   "execution_count": 9,
   "metadata": {},
   "outputs": [
    {
     "name": "stdout",
     "output_type": "stream",
     "text": [
      "<class 'dict'>\n",
      "Name: Chuck\n",
      "Phone: +1 734 303 4456\n",
      "Hide: yes\n"
     ]
    }
   ],
   "source": [
    "data =  '''\n",
    "        {\n",
    "            \"name\":\"Chuck\",\n",
    "            \"phone\":{\n",
    "                \"type\":\"int1\",\n",
    "                \"number\":\"+1 734 303 4456\"\n",
    "            },\n",
    "            \"email\":{\n",
    "                \"hide\":\"yes\"\n",
    "            }\n",
    "        }\n",
    "        '''\n",
    "info = json.loads(data)\n",
    "print(type(info))\n",
    "print('Name:', info['name'])\n",
    "print('Phone:', info['phone']['number'])\n",
    "print('Hide:', info['email']['hide'])"
   ]
  },
  {
   "cell_type": "code",
   "execution_count": 8,
   "metadata": {},
   "outputs": [
    {
     "name": "stdout",
     "output_type": "stream",
     "text": [
      "User count: 3\n",
      "ID: 001\n",
      "Name: Chuck\n",
      "Marks: 99\n",
      "ID: 002\n",
      "Name: Donkey\n",
      "Marks: 94\n",
      "ID: 003\n",
      "Name: Brunch\n",
      "Marks: 90\n"
     ]
    }
   ],
   "source": [
    "import json\n",
    "datas = '''\n",
    "        [\n",
    "            {\n",
    "                \"id\":\"001\",\n",
    "                \"name\":\"Chuck\",\n",
    "                \"marks\":\"99\"\n",
    "            },\n",
    "            {\n",
    "                \"id\":\"002\",\n",
    "                \"name\":\"Donkey\",\n",
    "                \"marks\":\"94\"\n",
    "            },\n",
    "            {\n",
    "                \"id\":\"003\",\n",
    "                \"name\":\"Brunch\",\n",
    "                \"marks\":\"90\"\n",
    "            }\n",
    "        ]\n",
    "        '''\n",
    "\n",
    "infos = json.loads(datas)\n",
    "print('User count:', len(infos))\n",
    "\n",
    "for item in infos:\n",
    "    print('ID:', item['id'])\n",
    "    print('Name:', item['name'])\n",
    "    print('Marks:', item['marks'])"
   ]
  },
  {
   "cell_type": "code",
   "execution_count": null,
   "metadata": {},
   "outputs": [],
   "source": []
  }
 ],
 "metadata": {
  "kernelspec": {
   "display_name": "Python 3",
   "language": "python",
   "name": "python3"
  },
  "language_info": {
   "codemirror_mode": {
    "name": "ipython",
    "version": 3
   },
   "file_extension": ".py",
   "mimetype": "text/x-python",
   "name": "python",
   "nbconvert_exporter": "python",
   "pygments_lexer": "ipython3",
   "version": "3.6.4"
  }
 },
 "nbformat": 4,
 "nbformat_minor": 2
}
