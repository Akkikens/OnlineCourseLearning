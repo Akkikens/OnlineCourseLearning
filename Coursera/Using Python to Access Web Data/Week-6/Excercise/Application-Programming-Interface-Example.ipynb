{
 "cells": [
  {
   "cell_type": "code",
   "execution_count": 1,
   "metadata": {},
   "outputs": [],
   "source": [
    "import urllib.request, urllib.parse, urllib.error\n",
    "import json"
   ]
  },
  {
   "cell_type": "code",
   "execution_count": 2,
   "metadata": {},
   "outputs": [],
   "source": [
    "serviceurl = 'http://maps.googleapis.com/maps/api/geocode/json?'"
   ]
  },
  {
   "cell_type": "code",
   "execution_count": 4,
   "metadata": {},
   "outputs": [
    {
     "name": "stdout",
     "output_type": "stream",
     "text": [
      "Enter location: Dhaka, Bangladesh\n",
      "Retrieving: http://maps.googleapis.com/maps/api/geocode/json?address=Dhaka%2C+Bangladesh\n",
      "Retrieved: 262 characters\n",
      "=== Failure to Retrieve ===\n",
      "{\n",
      "   \"error_message\" : \"You have exceeded your rate-limit for this API. We recommend registering for a key at the Google Developers Console: https://console.developers.google.com/apis/credentials?project=_\",\n",
      "   \"results\" : [],\n",
      "   \"status\" : \"OVER_QUERY_LIMIT\"\n",
      "}\n",
      "\n",
      "Enter location: \n"
     ]
    }
   ],
   "source": [
    "while True:\n",
    "    address = input('Enter location: ')\n",
    "    if len(address) < 1:\n",
    "        break\n",
    "        \n",
    "    url = serviceurl + urllib.parse.urlencode({'address':address})\n",
    "    \n",
    "    print('Retrieving:', url)\n",
    "    uh = urllib.request.urlopen(url)\n",
    "    data = uh.read().decode()\n",
    "    print('Retrieved:', len(data), 'characters')\n",
    "    \n",
    "    try:\n",
    "        js = json.loads(data)\n",
    "    except:\n",
    "        js = None\n",
    "        \n",
    "    if not js or 'status' not in js or js['status'] != 'OK':\n",
    "        print('=== Failure to Retrieve ===')\n",
    "        print(data)\n",
    "        continue\n",
    "        \n",
    "    lat = js['results'][0]['geometry']['location']['lat']\n",
    "    lng = js['results'][0]['geometry']['location']['lng']\n",
    "    print('Lat:', lat, 'Lng:', lng)\n",
    "    location = js['results'][0]['formatted_address']\n",
    "    print(location)"
   ]
  },
  {
   "cell_type": "code",
   "execution_count": null,
   "metadata": {},
   "outputs": [],
   "source": []
  }
 ],
 "metadata": {
  "kernelspec": {
   "display_name": "Python 3",
   "language": "python",
   "name": "python3"
  },
  "language_info": {
   "codemirror_mode": {
    "name": "ipython",
    "version": 3
   },
   "file_extension": ".py",
   "mimetype": "text/x-python",
   "name": "python",
   "nbconvert_exporter": "python",
   "pygments_lexer": "ipython3",
   "version": "3.6.4"
  }
 },
 "nbformat": 4,
 "nbformat_minor": 2
}
