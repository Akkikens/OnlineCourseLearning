{
 "cells": [
  {
   "cell_type": "markdown",
   "metadata": {},
   "source": [
    "#### 1. One nuclear reactor having a nominal power of 800MW generate an annual amount of 514k toe (1k =1000) of electricity. What is the correct capacity factor of this power unit ?"
   ]
  },
  {
   "cell_type": "markdown",
   "metadata": {},
   "source": [
    "##### Ans: 85%"
   ]
  },
  {
   "cell_type": "markdown",
   "metadata": {},
   "source": [
    "#### 2. The above capacity factor is mainly due to"
   ]
  },
  {
   "cell_type": "markdown",
   "metadata": {},
   "source": [
    "##### Ans: the maintenance of the reactor"
   ]
  },
  {
   "cell_type": "markdown",
   "metadata": {},
   "source": [
    "#### 3. We consider an offshore wind farm of 150 turbines of 6MW of nominal power each. The annual capacity factor of this large wind farm is around 35%. The annual amount of electric energy produced will be around:"
   ]
  },
  {
   "cell_type": "markdown",
   "metadata": {},
   "source": [
    "##### Ans: 238k toe"
   ]
  },
  {
   "cell_type": "markdown",
   "metadata": {},
   "source": [
    "#### 4. How many offshore wind turbines of 6MW (same capacity factor as Q3) will be needed to produce the same amount of annual energy as a nuclear reactor of 800MW having a capacity factor of 78%"
   ]
  },
  {
   "cell_type": "markdown",
   "metadata": {},
   "source": [
    "##### Ans: 297"
   ]
  },
  {
   "cell_type": "markdown",
   "metadata": {},
   "source": [
    "#### 5. We consider the above offshore wind farm of 150 turbines of 6MW of nominal power each. The annual capacity factor is around 35%. The typical seasonal variability of the energy production for this wind farm is given by the following graph:\n",
    "\n",
    "<img src=\"https://d3c33hcgiwev3.cloudfront.net/imageAssetProxy.v1/Vpc3jyi9Eees5g7IX40wTA_515d3061a44278b25f5c2687f9aa562b_seasonal-wind-variability-production_DENMARK.png?expiry=1549238400000&amp;hmac=3s3kXFBhiBdErizM6DGHzIBn-1ts7knxUNPQ6ycgFFE\" alt=\"\">\n",
    "\n",
    "#### This graph gives, in percentage, a relative value of the energy produced each month. The monthly mean energy (the annual energy /12) correspond to 100. Find which statements are true."
   ]
  },
  {
   "cell_type": "markdown",
   "metadata": {},
   "source": [
    "##### Ans: \n",
    "- The maximal power output of the wind farm is 900MW\n",
    "- The maximal monthly production is around 340 GWh in december"
   ]
  }
 ],
 "metadata": {
  "kernelspec": {
   "display_name": "Python 3",
   "language": "python",
   "name": "python3"
  },
  "language_info": {
   "codemirror_mode": {
    "name": "ipython",
    "version": 3
   },
   "file_extension": ".py",
   "mimetype": "text/x-python",
   "name": "python",
   "nbconvert_exporter": "python",
   "pygments_lexer": "ipython3",
   "version": "3.6.4"
  }
 },
 "nbformat": 4,
 "nbformat_minor": 2
}
