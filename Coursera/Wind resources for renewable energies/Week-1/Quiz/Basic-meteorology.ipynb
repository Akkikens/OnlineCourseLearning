{
 "cells": [
  {
   "cell_type": "markdown",
   "metadata": {},
   "source": [
    "#### 1. The Coriolis force "
   ]
  },
  {
   "cell_type": "markdown",
   "metadata": {},
   "source": [
    "##### Ans: \n",
    "- Deflect the air parcels towards the right in the northern hemisphere\n",
    "- Is orthogonal to the wind velocity"
   ]
  },
  {
   "cell_type": "markdown",
   "metadata": {},
   "source": [
    "#### 2. The geostrophic wind is a theoretical wind that "
   ]
  },
  {
   "cell_type": "markdown",
   "metadata": {},
   "source": [
    "##### (Wrong) Ans: \n",
    "- Flow from high pressure area to low pressure area\n",
    "- Is a local wind\n",
    "- Comes from the balance between the Coriolis force and the pressure gradient force\n",
    "\n",
    "- Comes from the balance between the Coriolis force and the pressure gradient force\n",
    "- Flow from high pressure area to low pressure area\n",
    "\n",
    "- Comes from the balance between the Coriolis force and the pressure gradient force\n",
    "\n",
    "- Flow along isobars\n",
    "- Comes from the balance between the Coriolis force and the pressure gradient force\n",
    "\n",
    "- Comes from the balance between the Coriolis force and the pressure gradient force\n",
    "- Flow along isobars\n",
    "- Flow from high pressure area to low pressure area"
   ]
  },
  {
   "cell_type": "markdown",
   "metadata": {},
   "source": [
    "#### 3. Close to the ground winds are also subjected to the bottom friction that result in a force opposite to wind direction. Find which sentence is true "
   ]
  },
  {
   "cell_type": "markdown",
   "metadata": {},
   "source": [
    "##### Ans: \n",
    "- As a result of high friction close to the ground the wind direction changes with altitude\n",
    "- Actual wind will be closer to the geostrophic wind at high altitude"
   ]
  },
  {
   "cell_type": "markdown",
   "metadata": {},
   "source": [
    "#### 4. On average, the strongest winds are located "
   ]
  },
  {
   "cell_type": "markdown",
   "metadata": {},
   "source": [
    "##### Ans: \n",
    "- At mid latitudes\n",
    "- At 10km height"
   ]
  },
  {
   "cell_type": "markdown",
   "metadata": {},
   "source": [
    "#### 5. The Rossby number is"
   ]
  },
  {
   "cell_type": "markdown",
   "metadata": {},
   "source": [
    "##### Ans: weak for a large anticyclone"
   ]
  },
  {
   "cell_type": "markdown",
   "metadata": {},
   "source": [
    "#### 6. Today we mainly extract wind power in "
   ]
  },
  {
   "cell_type": "markdown",
   "metadata": {},
   "source": [
    "##### Ans: In the surface layer"
   ]
  },
  {
   "cell_type": "markdown",
   "metadata": {},
   "source": [
    "#### 7. In the boundary layer, the winds tend to be "
   ]
  },
  {
   "cell_type": "markdown",
   "metadata": {},
   "source": [
    "##### Ans: \n",
    "- weaker than the geostrophic wind\n",
    "- deviated toward lower pressures"
   ]
  }
 ],
 "metadata": {
  "kernelspec": {
   "display_name": "Python 3",
   "language": "python",
   "name": "python3"
  },
  "language_info": {
   "codemirror_mode": {
    "name": "ipython",
    "version": 3
   },
   "file_extension": ".py",
   "mimetype": "text/x-python",
   "name": "python",
   "nbconvert_exporter": "python",
   "pygments_lexer": "ipython3",
   "version": "3.6.4"
  }
 },
 "nbformat": 4,
 "nbformat_minor": 2
}
