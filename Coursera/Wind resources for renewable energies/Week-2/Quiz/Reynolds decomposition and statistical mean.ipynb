{
 "cells": [
  {
   "cell_type": "markdown",
   "metadata": {},
   "source": [
    "#### 1.  We consider an atmospheric boundary layer where the temperature (as the velocity field) can be decomposed in two terms, a steady temperature ⟨T⟩ and turbulent fluctuations. We can then write:\n",
    "<img src=\"https://d3c33hcgiwev3.cloudfront.net/imageAssetProxy.v1/DcsHGTAiEeeVOwrGEP_klA_5f14eb3cbd1b43cb44659a6c2057df85_Mean___fluctuations.png?expiry=1550361600000&amp;hmac=ej9dtP0wVE1DTx3NLMz1Z3oGIfcZ997DNdP-uR-Bv9A\" alt=\"\">\n",
    "#### where ⟨. ⟩ corresponds to a statistical mean. The statistical average of the diffusion term"
   ]
  },
  {
   "cell_type": "markdown",
   "metadata": {},
   "source": [
    "##### Ans: \n",
    "- is then equal to\n",
    "<img src=\"https://d3c33hcgiwev3.cloudfront.net/imageAssetProxy.v1/acKIvjAhEee1ZQrpxJ0DTA_03ab88ce7c7c52f9a175a1d1afb30ec5_Q1_A5.png?expiry=1550361600000&amp;hmac=EkWq3aW9l_4W3ddkq_ZOqLnxWrhe4SYryf3BZoCNr-o\" alt=\"\">\n",
    "- is then equal to:\n",
    "<img src=\"https://d3c33hcgiwev3.cloudfront.net/imageAssetProxy.v1/DvdulzAhEeeVOwrGEP_klA_bb910f3a637e288b4820846b6d3a3d91_Q1_A2.png?expiry=1550361600000&amp;hmac=KZIwqPPulLoYo8v7yCPa43czbytjfTS80DgOdj4F20s\" alt=\"\">"
   ]
  },
  {
   "cell_type": "markdown",
   "metadata": {},
   "source": [
    "#### 2. We keep here the same hypothesis and notations as in the previous question.The statistical average of the non-linear term\n",
    "<img src=\"https://d3c33hcgiwev3.cloudfront.net/imageAssetProxy.v1/ndJoLzAjEeeVOwrGEP_klA_30ee6337de0bec6795c827e3bc645991_NL1.png?expiry=1550361600000&amp;hmac=sJXzqFbttEIYeZJS_26glBe9PbZessSTTd3QkNFjYLw\" alt=\"\">"
   ]
  },
  {
   "cell_type": "markdown",
   "metadata": {},
   "source": [
    "##### Ans: \n",
    "- is equal to\n",
    "<img src=\"https://d3c33hcgiwev3.cloudfront.net/imageAssetProxy.v1/INB-wTAkEeeVOwrGEP_klA_29819e5675c1b3ce08b8e1fd555a5e14_Q2_A5.png?expiry=1550361600000&amp;hmac=agihH4hoF9VkQQJP82UOQBQM37W91pClQT7RBSx86MM\" alt=\"\">\n",
    "- is equal to\n",
    "<img src=\"https://d3c33hcgiwev3.cloudfront.net/imageAssetProxy.v1/xA43BjJeEeeLzxKa4kVC8A_08550688463eb8bebff2d674a08a9b29_Q2_A4.png?expiry=1550361600000&amp;hmac=_udVHyMUhZzBCr_ZnBhbBK37prlc2HftlPoIsSKdnss\" alt=\"\">"
   ]
  },
  {
   "cell_type": "markdown",
   "metadata": {},
   "source": [
    "#### 3. We keep here the same hypothesis and notations as in the previous question.The statistical average of the non-linear term\n",
    "<img src=\"https://d3c33hcgiwev3.cloudfront.net/imageAssetProxy.v1/vtq3QjAkEeeVnA6QUl2alA_979c6cdad773c49c604024b80faed041_NL2.png?expiry=1550361600000&amp;hmac=NX4xpEVBfhv23qer3V1WEQCJlLM8UNDaZ0KgC0nccgg\" alt=\"\">"
   ]
  },
  {
   "cell_type": "markdown",
   "metadata": {},
   "source": [
    "##### Ans: \n",
    "- is equal to\n",
    "<img src=\"https://d3c33hcgiwev3.cloudfront.net/imageAssetProxy.v1/3LRQ0TAkEeeLzxKa4kVC8A_0fd385c1451b165ee71cf7007f92a4d2_Q3_A2.png?expiry=1550361600000&amp;hmac=k8RWD6Cz2nw4YvKH9xV1FnfVmRb0ZirnBqXGHoCVfdc\" alt=\"\">\n",
    "- is equal to\n",
    "<img src=\"https://d3c33hcgiwev3.cloudfront.net/imageAssetProxy.v1/OAWiRTJdEeeuNhKwhdsJZA_aa9575fa2a6ca6b19484c1f1fc4f8038_Q3_A3.png?expiry=1550361600000&amp;hmac=pfXO2Hi7buclenJObYgqGEqBOYViY5gyC4JAbhDtJTY\" alt=\"\">"
   ]
  }
 ],
 "metadata": {
  "kernelspec": {
   "display_name": "Python 3",
   "language": "python",
   "name": "python3"
  },
  "language_info": {
   "codemirror_mode": {
    "name": "ipython",
    "version": 3
   },
   "file_extension": ".py",
   "mimetype": "text/x-python",
   "name": "python",
   "nbconvert_exporter": "python",
   "pygments_lexer": "ipython3",
   "version": "3.6.4"
  }
 },
 "nbformat": 4,
 "nbformat_minor": 2
}
